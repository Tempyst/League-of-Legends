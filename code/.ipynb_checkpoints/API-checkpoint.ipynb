{
 "cells": [
  {
   "cell_type": "code",
   "execution_count": 21,
   "metadata": {},
   "outputs": [],
   "source": [
    "import requests\n",
    "import time\n",
    "import pandas as pd\n",
    "import json"
   ]
  },
  {
   "cell_type": "code",
   "execution_count": 19,
   "metadata": {},
   "outputs": [],
   "source": [
    "key = 'INSERT API KEY HERE'\n",
    "champion_data = requests.get('https://ddragon.leagueoflegends.com/cdn/6.24.1/data/en_US/champion.json').json()"
   ]
  },
  {
   "cell_type": "code",
   "execution_count": null,
   "metadata": {},
   "outputs": [],
   "source": [
    "rank = requests.get('https://na1.api.riotgames.com/lol/league/v4/masterleagues/by-queue/RANKED_SOLO_5x5?api_key=RGAPI-21b08830-5bd8-485b-bd2b-792f84332895').json()"
   ]
  },
  {
   "cell_type": "code",
   "execution_count": null,
   "metadata": {},
   "outputs": [],
   "source": [
    "master_rank_summoner_id = [] \n",
    "for i in rank['entries']:\n",
    "    master_rank_summoner_id.append(i['summonerId'])"
   ]
  },
  {
   "cell_type": "code",
   "execution_count": null,
   "metadata": {},
   "outputs": [],
   "source": [
    "master_rank_account_id = []\n",
    "\n",
    "for i in master_rank_summoner_id:\n",
    "    url = 'https://na1.api.riotgames.com/lol/summoner/v4/summoners/' + str(i) + '?api_key=' + key\n",
    "    master_rank_account_id.append(requests.get(url).json()['accountId'])\n",
    "    time.sleep(1.5)"
   ]
  },
  {
   "cell_type": "code",
   "execution_count": null,
   "metadata": {},
   "outputs": [],
   "source": [
    "master_rank_match_id = []\n",
    "\n",
    "for i in master_rank_account_id:\n",
    "    url = 'https://na1.api.riotgames.com/lol/match/v4/matchlists/by-account/' + i + '?api_key=' + key\n",
    "    if requests.get(url).status_code == 200:\n",
    "        data = requests.get(url).json()\n",
    "        for i in data['matches']:\n",
    "            master_rank_match_id.append(i['gameId'])\n",
    "    else:\n",
    "        pass\n",
    "    time.sleep(1.5)"
   ]
  },
  {
   "cell_type": "code",
   "execution_count": null,
   "metadata": {},
   "outputs": [],
   "source": [
    "with open(\"../files/master_rank_match_id.txt\", \"w\") as output:\n",
    "    output.write(str(master_rank_match_id))"
   ]
  },
  {
   "cell_type": "code",
   "execution_count": 3,
   "metadata": {},
   "outputs": [],
   "source": [
    "with open('capstone/files/master_rank_match_id.txt') as f:\n",
    "    temp = f.read().splitlines()\n",
    "\n",
    "match_id = eval(temp[0])"
   ]
  },
  {
   "cell_type": "code",
   "execution_count": 4,
   "metadata": {},
   "outputs": [],
   "source": [
    "match_id = list(set(match_id))"
   ]
  },
  {
   "cell_type": "code",
   "execution_count": 4,
   "metadata": {},
   "outputs": [
    {
     "ename": "KeyboardInterrupt",
     "evalue": "",
     "output_type": "error",
     "traceback": [
      "\u001b[1;31m---------------------------------------------------------------------------\u001b[0m",
      "\u001b[1;31mKeyboardInterrupt\u001b[0m                         Traceback (most recent call last)",
      "\u001b[1;32m<ipython-input-4-0caaedd45899>\u001b[0m in \u001b[0;36m<module>\u001b[1;34m\u001b[0m\n\u001b[0;32m      4\u001b[0m     \u001b[0murl\u001b[0m \u001b[1;33m=\u001b[0m \u001b[1;34m'https://na1.api.riotgames.com/lol/match/v4/matches/'\u001b[0m \u001b[1;33m+\u001b[0m \u001b[0mstr\u001b[0m\u001b[1;33m(\u001b[0m\u001b[0mi\u001b[0m\u001b[1;33m)\u001b[0m \u001b[1;33m+\u001b[0m \u001b[1;34m'?api_key='\u001b[0m \u001b[1;33m+\u001b[0m \u001b[0mkey\u001b[0m\u001b[1;33m\u001b[0m\u001b[1;33m\u001b[0m\u001b[0m\n\u001b[0;32m      5\u001b[0m     \u001b[0mmatch_data\u001b[0m\u001b[1;33m.\u001b[0m\u001b[0mappend\u001b[0m\u001b[1;33m(\u001b[0m\u001b[0mrequests\u001b[0m\u001b[1;33m.\u001b[0m\u001b[0mget\u001b[0m\u001b[1;33m(\u001b[0m\u001b[0murl\u001b[0m\u001b[1;33m)\u001b[0m\u001b[1;33m.\u001b[0m\u001b[0mjson\u001b[0m\u001b[1;33m(\u001b[0m\u001b[1;33m)\u001b[0m\u001b[1;33m)\u001b[0m\u001b[1;33m\u001b[0m\u001b[1;33m\u001b[0m\u001b[0m\n\u001b[1;32m----> 6\u001b[1;33m     \u001b[0mtime\u001b[0m\u001b[1;33m.\u001b[0m\u001b[0msleep\u001b[0m\u001b[1;33m(\u001b[0m\u001b[1;36m1.5\u001b[0m\u001b[1;33m)\u001b[0m\u001b[1;33m\u001b[0m\u001b[1;33m\u001b[0m\u001b[0m\n\u001b[0m",
      "\u001b[1;31mKeyboardInterrupt\u001b[0m: "
     ]
    }
   ],
   "source": [
    "match_data = []\n",
    "\n",
    "for i in match_id:\n",
    "    url = 'https://na1.api.riotgames.com/lol/match/v4/matches/' + str(i) + '?api_key=' + key\n",
    "    match_data.append(requests.get(url).json())\n",
    "    time.sleep(1.5)"
   ]
  },
  {
   "cell_type": "code",
   "execution_count": 12,
   "metadata": {},
   "outputs": [],
   "source": [
    "player_list = []\n",
    "for match in range(len(final_match_data)):\n",
    "    for items in range(5):\n",
    "        try:\n",
    "            player_dict_item = {}\n",
    "            if final_match_data[match].get('participants'):\n",
    "                player_dict_item['game_mode'] = final_match_data[match].get('gameMode')\n",
    "            player_dict_item['champion'] = final_match_data[match].get('participants')[items].get('championId')\n",
    "            player_dict_item['spell_1'] = final_match_data[match].get('participants')[items].get('spell1Id')\n",
    "            player_dict_item['spell_2'] = final_match_data[match].get('participants')[items].get('spell2Id')\n",
    "            player_dict_item['player_rank'] = final_match_data[match].get('participants')[items].get('highestAchievedSeasonTier')\n",
    "            player_dict_item['victory'] = final_match_data[match].get('participants')[items]['stats'].get('win')\n",
    "            player_dict_item['kills'] = final_match_data[match].get('participants')[items]['stats'].get('kills')\n",
    "            player_dict_item['deaths'] = final_match_data[match].get('participants')[items]['stats'].get('deaths')\n",
    "            player_dict_item['assists'] = final_match_data[match].get('participants')[items]['stats'].get('assists')\n",
    "            player_dict_item['largest_killing_spree'] = final_match_data[match].get('participants')[items]['stats'].get('largestKillingSpree')\n",
    "            player_dict_item['killing_sprees'] = final_match_data[match].get('participants')[items]['stats'].get('killingSprees')\n",
    "            player_dict_item['double_kills'] = final_match_data[match].get('participants')[items]['stats'].get('doubleKills')\n",
    "            player_dict_item['triple_kills'] = final_match_data[match].get('participants')[items]['stats'].get('tripleKills')\n",
    "            player_dict_item['quadra_kills'] = final_match_data[match].get('participants')[items]['stats'].get('quadraKills')\n",
    "            player_dict_item['penta_kills'] = final_match_data[match].get('participants')[items]['stats'].get('pentaKills')\n",
    "            player_dict_item['total_damage_dealt_to_champions'] = final_match_data[match].get('participants')[items]['stats'].get('totalDamageDealtToChampions')\n",
    "            player_dict_item['vision_score'] = final_match_data[match].get('participants')[items]['stats'].get('visionScore')\n",
    "            player_dict_item['total_damage_taken'] = final_match_data[match].get('participants')[items]['stats'].get('totalDamageTaken')\n",
    "            player_dict_item['gold_earned'] = final_match_data[match].get('participants')[items]['stats'].get('goldEarned')\n",
    "            player_dict_item['gold_spent'] = final_match_data[match].get('participants')[items]['stats'].get('goldSpent')   \n",
    "            player_dict_item['turret_kills'] = final_match_data[match].get('participants')[items]['stats'].get('turretKills')\n",
    "            player_dict_item['inhibitor_kills'] = final_match_data[match].get('participants')[items]['stats'].get('inhibitorKills')\n",
    "            player_dict_item['total_minions_killed'] = final_match_data[match].get('participants')[items]['stats'].get('totalMinionsKilled')\n",
    "            player_dict_item['wards_placed'] = final_match_data[match].get('participants')[items]['stats'].get('wardsPlaced')\n",
    "            player_dict_item['wards_killed'] = final_match_data[match].get('participants')[items]['stats'].get('wardsKilled')   \n",
    "            player_dict_item['first_blood_kill'] = final_match_data[match].get('participants')[items]['stats'].get('firstBloodKill')\n",
    "            player_dict_item['first_blood_assist'] = final_match_data[match].get('participants')[items]['stats'].get('firstBloodAssist')\n",
    "            player_dict_item['first_tower_kill'] = final_match_data[match].get('participants')[items]['stats'].get('firstTowerKill')\n",
    "            player_dict_item['first_tower_assist'] = final_match_data[match].get('participants')[items]['stats'].get('firstTowerAssist')\n",
    "            player_dict_item['first_inhibitor_kill'] = final_match_data[match].get('participants')[items]['stats'].get('firstInhibitorKill')\n",
    "            player_dict_item['first_inhibitor_assist'] = final_match_data[match].get('participants')[items]['stats'].get('firstInhibitorAssist')  \n",
    "            player_dict_item['lane'] = final_match_data[match].get('participants')[items]['timeline'].get('lane')\n",
    "            player_dict_item['role'] = final_match_data[match].get('participants')[items]['timeline'].get('role')\n",
    "\n",
    "            if final_match_data[match].get('participants')[items]['timeline'].get('creepsPerMinDeltas'):\n",
    "                player_dict_item['creep_per_min_delta_0_10'] = final_match_data[match].get('participants')[items]['timeline'].get('creepsPerMinDeltas').get('0-10')\n",
    "                player_dict_item['creep_per_min_delta_10_20'] = final_match_data[match].get('participants')[items]['timeline'].get('creepsPerMinDeltas').get('10-20')\n",
    "                player_dict_item['creep_per_min_delta_20_30'] = final_match_data[match].get('participants')[items]['timeline'].get('creepsPerMinDeltas').get('20-30')\n",
    "                player_dict_item['creep_per_min_delta_30_end'] = final_match_data[match].get('participants')[items]['timeline'].get('creepsPerMinDeltas').get('30-end')\n",
    "\n",
    "            if final_match_data[match].get('participants')[items]['timeline'].get('goldPerMinDeltas'):\n",
    "                player_dict_item['gold_per_min_delta_0_10'] = final_match_data[match].get('participants')[items]['timeline'].get('goldPerMinDeltas').get('0-10')\n",
    "                player_dict_item['gold_per_min_delta_10_20'] = final_match_data[match].get('participants')[items]['timeline'].get('goldPerMinDeltas').get('10-20')  \n",
    "                player_dict_item['gold_per_min_delta_20_30'] = final_match_data[match].get('participants')[items]['timeline'].get('goldPerMinDeltas').get('20-30')  \n",
    "                player_dict_item['gold_per_min_delta_30_end'] = final_match_data[match].get('participants')[items]['timeline'].get('goldPerMinDeltas').get('30-end')\n",
    "\n",
    "\n",
    "            if final_match_data[match].get('participants')[items]['timeline'].get('csDiffPerMinDeltas'):\n",
    "                player_dict_item['cs_diff_per_min_delta_0_10'] = final_match_data[match].get('participants')[items]['timeline'].get('csDiffPerMinDeltas').get('0-10')\n",
    "                player_dict_item['cs_diff_per_min_delta_10_20'] = final_match_data[match].get('participants')[items]['timeline'].get('csDiffPerMinDeltas').get('10-20')  \n",
    "                player_dict_item['cs_diff_per_min_delta_20_30'] = final_match_data[match].get('participants')[items]['timeline'].get('csDiffPerMinDeltas').get('20-30')  \n",
    "                player_dict_item['cs_diff_per_min_delta_30_end'] = final_match_data[match].get('participants')[items]['timeline'].get('csDiffPerMinDeltas').get('30-end')\n",
    "\n",
    "            if final_match_data[match].get('participants')[items]['timeline'].get('xpDiffPerMinDeltas'):\n",
    "                player_dict_item['xp_diff_per_min_delta_0_10'] = final_match_data[match].get('participants')[items]['timeline'].get('xpDiffPerMinDeltas').get('0-10')\n",
    "                player_dict_item['xp_diff_per_min_delta_10_20'] = final_match_data[match].get('participants')[items]['timeline'].get('xpDiffPerMinDeltas').get('10-20')  \n",
    "                player_dict_item['xp_diff_per_min_delta_20_30'] = final_match_data[match].get('participants')[items]['timeline'].get('xpDiffPerMinDeltas').get('20-30')  \n",
    "                player_dict_item['xp_diff_per_min_delta_30_end'] = final_match_data[match].get('participants')[items]['timeline'].get('xpDiffPerMinDeltas').get('30-end')\n",
    "\n",
    "            if final_match_data[match].get('participants')[items]['timeline'].get('damageTakenPerMinDeltas'):\n",
    "                player_dict_item['damage_taken_per_min_delta_0_10'] = final_match_data[match].get('participants')[items]['timeline'].get('damageTakenPerMinDeltas').get('0-10')\n",
    "                player_dict_item['damage_taken_per_min_delta_10_20'] = final_match_data[match].get('participants')[items]['timeline'].get('damageTakenPerMinDeltas').get('10-20')  \n",
    "                player_dict_item['damage_taken_per_min_delta_20_30'] = final_match_data[match].get('participants')[items]['timeline'].get('damageTakenPerMinDeltas').get('20-30')  \n",
    "                player_dict_item['damage_taken_per_min_delta_30_end'] = final_match_data[match].get('participants')[items]['timeline'].get('damageTakenPerMinDeltas').get('30-end')\n",
    "\n",
    "            if final_match_data[match].get('participants')[items]['timeline'].get('damageTakenDiffPerMinDeltas'):\n",
    "                player_dict_item['damage_taken_diff_per_min_delta_0_10'] = final_match_data[match].get('participants')[items]['timeline'].get('damageTakenDiffPerMinDeltas').get('0-10')\n",
    "                player_dict_item['damage_taken_diff_per_min_delta_10_20'] = final_match_data[match].get('participants')[items]['timeline'].get('damageTakenDiffPerMinDeltas').get('10-20')  \n",
    "                player_dict_item['damage_taken_diff_per_min_delta_20_30'] = final_match_data[match].get('participants')[items]['timeline'].get('damageTakenDiffPerMinDeltas').get('20-30')  \n",
    "                player_dict_item['damage_taken_diff_per_min_delta_30_end'] = final_match_data[match].get('participants')[items]['timeline'].get('damageTakenDiffPerMinDeltas').get('30-end')\n",
    "\n",
    "            player_dict_item['team_tower_kills'] = final_match_data[match]['teams'][0]['towerKills']\n",
    "            player_dict_item['team_baron_kill'] = final_match_data[match]['teams'][0]['baronKills']\n",
    "            player_dict_item['team_dragon_kills'] = final_match_data[match]['teams'][0]['dragonKills']\n",
    "            player_dict_item['team_rift_herald_kills'] = final_match_data[match]['teams'][0]['riftHeraldKills']\n",
    "            player_list.append(player_dict_item)\n",
    "        except:\n",
    "            pass\n",
    "        \n",
    "    for items in range(5,10):\n",
    "        try:\n",
    "            player_dict_item = {}\n",
    "            player_dict_item['game_mode'] = final_match_data[match].get('gameMode')\n",
    "            if final_match_data[match].get('participants')[items]:\n",
    "                player_dict_item['champion'] = final_match_data[match].get('participants')[items].get('championId')\n",
    "            player_dict_item['spell_1'] = final_match_data[match].get('participants')[items].get('spell1Id')\n",
    "            player_dict_item['spell_2'] = final_match_data[match].get('participants')[items].get('spell2Id')\n",
    "            player_dict_item['player_rank'] = final_match_data[match].get('participants')[items].get('highestAchievedSeasonTier')\n",
    "            player_dict_item['victory'] = final_match_data[match].get('participants')[items]['stats'].get('win')\n",
    "            player_dict_item['kills'] = final_match_data[match].get('participants')[items]['stats'].get('kills')\n",
    "            player_dict_item['deaths'] = final_match_data[match].get('participants')[items]['stats'].get('deaths')\n",
    "            player_dict_item['assists'] = final_match_data[match].get('participants')[items]['stats'].get('assists')\n",
    "            player_dict_item['largest_killing_spree'] = final_match_data[match].get('participants')[items]['stats'].get('largestKillingSpree')\n",
    "            player_dict_item['killing_sprees'] = final_match_data[match].get('participants')[items]['stats'].get('killingSprees')\n",
    "            player_dict_item['double_kills'] = final_match_data[match].get('participants')[items]['stats'].get('doubleKills')\n",
    "            player_dict_item['triple_kills'] = final_match_data[match].get('participants')[items]['stats'].get('tripleKills')\n",
    "            player_dict_item['quadra_kills'] = final_match_data[match].get('participants')[items]['stats'].get('quadraKills')\n",
    "            player_dict_item['penta_kills'] = final_match_data[match].get('participants')[items]['stats'].get('pentaKills')\n",
    "            player_dict_item['total_damage_dealt_to_champions'] = final_match_data[match].get('participants')[items]['stats'].get('totalDamageDealtToChampions')\n",
    "            player_dict_item['vision_score'] = final_match_data[match].get('participants')[items]['stats'].get('visionScore')\n",
    "            player_dict_item['total_damage_taken'] = final_match_data[match].get('participants')[items]['stats'].get('totalDamageTaken')\n",
    "            player_dict_item['gold_earned'] = final_match_data[match].get('participants')[items]['stats'].get('goldEarned')\n",
    "            player_dict_item['gold_spent'] = final_match_data[match].get('participants')[items]['stats'].get('goldSpent')   \n",
    "            player_dict_item['turret_kills'] = final_match_data[match].get('participants')[items]['stats'].get('turretKills')\n",
    "            player_dict_item['inhibitor_kills'] = final_match_data[match].get('participants')[items]['stats'].get('inhibitorKills')\n",
    "            player_dict_item['total_minions_killed'] = final_match_data[match].get('participants')[items]['stats'].get('totalMinionsKilled')\n",
    "            player_dict_item['wards_placed'] = final_match_data[match].get('participants')[items]['stats'].get('wardsPlaced')\n",
    "            player_dict_item['wards_killed'] = final_match_data[match].get('participants')[items]['stats'].get('wardsKilled')   \n",
    "            player_dict_item['first_blood_kill'] = final_match_data[match].get('participants')[items]['stats'].get('firstBloodKill')\n",
    "            player_dict_item['first_blood_assist'] = final_match_data[match].get('participants')[items]['stats'].get('firstBloodAssist')\n",
    "            player_dict_item['first_tower_kill'] = final_match_data[match].get('participants')[items]['stats'].get('firstTowerKill')\n",
    "            player_dict_item['first_tower_assist'] = final_match_data[match].get('participants')[items]['stats'].get('firstTowerAssist')\n",
    "            player_dict_item['first_inhibitor_kill'] = final_match_data[match].get('participants')[items]['stats'].get('firstInhibitorKill')\n",
    "            player_dict_item['first_inhibitor_assist'] = final_match_data[match].get('participants')[items]['stats'].get('firstInhibitorAssist')  \n",
    "            player_dict_item['lane'] = final_match_data[match].get('participants')[items]['timeline'].get('lane')\n",
    "            player_dict_item['role'] = final_match_data[match].get('participants')[items]['timeline'].get('role')\n",
    "\n",
    "            if final_match_data[match].get('participants')[items]['timeline'].get('creepsPerMinDeltas'):\n",
    "                player_dict_item['creep_per_min_delta_0_10'] = final_match_data[match].get('participants')[items]['timeline'].get('creepsPerMinDeltas').get('0-10')\n",
    "                player_dict_item['creep_per_min_delta_10_20'] = final_match_data[match].get('participants')[items]['timeline'].get('creepsPerMinDeltas').get('10-20')\n",
    "                player_dict_item['creep_per_min_delta_20_30'] = final_match_data[match].get('participants')[items]['timeline'].get('creepsPerMinDeltas').get('20-30')\n",
    "                player_dict_item['creep_per_min_delta_30_end'] = final_match_data[match].get('participants')[items]['timeline'].get('creepsPerMinDeltas').get('30-end')\n",
    "\n",
    "            if final_match_data[match].get('participants')[items]['timeline'].get('goldPerMinDeltas'):\n",
    "                player_dict_item['gold_per_min_delta_0_10'] = final_match_data[match].get('participants')[items]['timeline'].get('goldPerMinDeltas').get('0-10')\n",
    "                player_dict_item['gold_per_min_delta_10_20'] = final_match_data[match].get('participants')[items]['timeline'].get('goldPerMinDeltas').get('10-20')  \n",
    "                player_dict_item['gold_per_min_delta_20_30'] = final_match_data[match].get('participants')[items]['timeline'].get('goldPerMinDeltas').get('20-30')  \n",
    "                player_dict_item['gold_per_min_delta_30_end'] = final_match_data[match].get('participants')[items]['timeline'].get('goldPerMinDeltas').get('30-end')\n",
    "\n",
    "\n",
    "            if final_match_data[match].get('participants')[items]['timeline'].get('csDiffPerMinDeltas'):\n",
    "                player_dict_item['cs_diff_per_min_delta_0_10'] = final_match_data[match].get('participants')[items]['timeline'].get('csDiffPerMinDeltas').get('0-10')\n",
    "                player_dict_item['cs_diff_per_min_delta_10_20'] = final_match_data[match].get('participants')[items]['timeline'].get('csDiffPerMinDeltas').get('10-20')  \n",
    "                player_dict_item['cs_diff_per_min_delta_20_30'] = final_match_data[match].get('participants')[items]['timeline'].get('csDiffPerMinDeltas').get('20-30')  \n",
    "                player_dict_item['cs_diff_per_min_delta_30_end'] = final_match_data[match].get('participants')[items]['timeline'].get('csDiffPerMinDeltas').get('30-end')\n",
    "\n",
    "            if final_match_data[match].get('participants')[items]['timeline'].get('xpDiffPerMinDeltas'):\n",
    "                player_dict_item['xp_diff_per_min_delta_0_10'] = final_match_data[match].get('participants')[items]['timeline'].get('xpDiffPerMinDeltas').get('0-10')\n",
    "                player_dict_item['xp_diff_per_min_delta_10_20'] = final_match_data[match].get('participants')[items]['timeline'].get('xpDiffPerMinDeltas').get('10-20')  \n",
    "                player_dict_item['xp_diff_per_min_delta_20_30'] = final_match_data[match].get('participants')[items]['timeline'].get('xpDiffPerMinDeltas').get('20-30')  \n",
    "                player_dict_item['xp_diff_per_min_delta_30_end'] = final_match_data[match].get('participants')[items]['timeline'].get('xpDiffPerMinDeltas').get('30-end')\n",
    "\n",
    "            if final_match_data[match].get('participants')[items]['timeline'].get('damageTakenPerMinDeltas'):\n",
    "                player_dict_item['damage_taken_per_min_delta_0_10'] = final_match_data[match].get('participants')[items]['timeline'].get('damageTakenPerMinDeltas').get('0-10')\n",
    "                player_dict_item['damage_taken_per_min_delta_10_20'] = final_match_data[match].get('participants')[items]['timeline'].get('damageTakenPerMinDeltas').get('10-20')  \n",
    "                player_dict_item['damage_taken_per_min_delta_20_30'] = final_match_data[match].get('participants')[items]['timeline'].get('damageTakenPerMinDeltas').get('20-30')  \n",
    "                player_dict_item['damage_taken_per_min_delta_30_end'] = final_match_data[match].get('participants')[items]['timeline'].get('damageTakenPerMinDeltas').get('30-end')\n",
    "\n",
    "            if final_match_data[match].get('participants')[items]['timeline'].get('damageTakenDiffPerMinDeltas'):\n",
    "                player_dict_item['damage_taken_diff_per_min_delta_0_10'] = final_match_data[match].get('participants')[items]['timeline'].get('damageTakenDiffPerMinDeltas').get('0-10')\n",
    "                player_dict_item['damage_taken_diff_per_min_delta_10_20'] = final_match_data[match].get('participants')[items]['timeline'].get('damageTakenDiffPerMinDeltas').get('10-20')  \n",
    "                player_dict_item['damage_taken_diff_per_min_delta_20_30'] = final_match_data[match].get('participants')[items]['timeline'].get('damageTakenDiffPerMinDeltas').get('20-30')  \n",
    "                player_dict_item['damage_taken_diff_per_min_delta_30_end'] = final_match_data[match].get('participants')[items]['timeline'].get('damageTakenDiffPerMinDeltas').get('30-end')\n",
    "\n",
    "            player_dict_item['team_tower_kills'] = final_match_data[match]['teams'][1]['towerKills']\n",
    "            player_dict_item['team_baron_kill'] = final_match_data[match]['teams'][1]['baronKills']\n",
    "            player_dict_item['team_dragon_kills'] = final_match_data[match]['teams'][1]['dragonKills']\n",
    "            player_dict_item['team_rift_herald_kills'] = final_match_data[match]['teams'][1]['riftHeraldKills']\n",
    "            \n",
    "            player_list.append(player_dict_item)\n",
    "        except:\n",
    "            pass\n"
   ]
  },
  {
   "cell_type": "code",
   "execution_count": null,
   "metadata": {},
   "outputs": [],
   "source": [
    "df = pd.DataFrame(player_list)"
   ]
  },
  {
   "cell_type": "code",
   "execution_count": 14,
   "metadata": {},
   "outputs": [],
   "source": [
    "# df.to_csv('../data/all_playhers_combined.csv')"
   ]
  },
  {
   "cell_type": "code",
   "execution_count": 16,
   "metadata": {},
   "outputs": [],
   "source": [
    "# classic =  df[df['game_mode'] == 'CLASSIC']"
   ]
  },
  {
   "cell_type": "code",
   "execution_count": 17,
   "metadata": {},
   "outputs": [],
   "source": [
    "# classic.to_csv('../data/classic_games.csv')"
   ]
  },
  {
   "cell_type": "code",
   "execution_count": 22,
   "metadata": {},
   "outputs": [],
   "source": [
    "names = list(champion_data['data'].keys())\n",
    "\n",
    "champion_list = []\n",
    "champion_dict = {}\n",
    "\n",
    "for i in names:\n",
    "    temp = {}\n",
    "    temp[champion_data['data'][i]['key']] = i\n",
    "    champion_list.append(temp)\n",
    "\n",
    "for i in champion_list:\n",
    "    champion_dict.update(i)\n",
    "    \n",
    "with open(\"capstone/data/spells.json\", \"r\") as read_file:\n",
    "    spells = json.load(read_file)\n",
    "\n",
    "spell_names = {}\n",
    "for i in spells:\n",
    "    spell_names.update({i['key']: i['name']})"
   ]
  },
  {
   "cell_type": "code",
   "execution_count": 23,
   "metadata": {},
   "outputs": [
    {
     "name": "stderr",
     "output_type": "stream",
     "text": [
      "C:\\Users\\eyip1\\Anaconda3\\lib\\site-packages\\ipykernel_launcher.py:1: SettingWithCopyWarning: \n",
      "A value is trying to be set on a copy of a slice from a DataFrame.\n",
      "Try using .loc[row_indexer,col_indexer] = value instead\n",
      "\n",
      "See the caveats in the documentation: http://pandas.pydata.org/pandas-docs/stable/indexing.html#indexing-view-versus-copy\n",
      "  \"\"\"Entry point for launching an IPython kernel.\n",
      "C:\\Users\\eyip1\\Anaconda3\\lib\\site-packages\\ipykernel_launcher.py:2: SettingWithCopyWarning: \n",
      "A value is trying to be set on a copy of a slice from a DataFrame.\n",
      "Try using .loc[row_indexer,col_indexer] = value instead\n",
      "\n",
      "See the caveats in the documentation: http://pandas.pydata.org/pandas-docs/stable/indexing.html#indexing-view-versus-copy\n",
      "  \n",
      "C:\\Users\\eyip1\\Anaconda3\\lib\\site-packages\\ipykernel_launcher.py:3: SettingWithCopyWarning: \n",
      "A value is trying to be set on a copy of a slice from a DataFrame.\n",
      "Try using .loc[row_indexer,col_indexer] = value instead\n",
      "\n",
      "See the caveats in the documentation: http://pandas.pydata.org/pandas-docs/stable/indexing.html#indexing-view-versus-copy\n",
      "  This is separate from the ipykernel package so we can avoid doing imports until\n"
     ]
    }
   ],
   "source": [
    "classic['champion'] = classic['champion'].astype(str)\n",
    "classic['spell_1'] = classic['spell_1'].astype(str)\n",
    "classic['spell_2'] = classic['spell_2'].astype(str)"
   ]
  },
  {
   "cell_type": "code",
   "execution_count": 26,
   "metadata": {},
   "outputs": [
    {
     "name": "stderr",
     "output_type": "stream",
     "text": [
      "C:\\Users\\eyip1\\Anaconda3\\lib\\site-packages\\ipykernel_launcher.py:1: SettingWithCopyWarning: \n",
      "A value is trying to be set on a copy of a slice from a DataFrame.\n",
      "Try using .loc[row_indexer,col_indexer] = value instead\n",
      "\n",
      "See the caveats in the documentation: http://pandas.pydata.org/pandas-docs/stable/indexing.html#indexing-view-versus-copy\n",
      "  \"\"\"Entry point for launching an IPython kernel.\n",
      "C:\\Users\\eyip1\\Anaconda3\\lib\\site-packages\\ipykernel_launcher.py:2: SettingWithCopyWarning: \n",
      "A value is trying to be set on a copy of a slice from a DataFrame.\n",
      "Try using .loc[row_indexer,col_indexer] = value instead\n",
      "\n",
      "See the caveats in the documentation: http://pandas.pydata.org/pandas-docs/stable/indexing.html#indexing-view-versus-copy\n",
      "  \n",
      "C:\\Users\\eyip1\\Anaconda3\\lib\\site-packages\\ipykernel_launcher.py:3: SettingWithCopyWarning: \n",
      "A value is trying to be set on a copy of a slice from a DataFrame.\n",
      "Try using .loc[row_indexer,col_indexer] = value instead\n",
      "\n",
      "See the caveats in the documentation: http://pandas.pydata.org/pandas-docs/stable/indexing.html#indexing-view-versus-copy\n",
      "  This is separate from the ipykernel package so we can avoid doing imports until\n"
     ]
    }
   ],
   "source": [
    "classic['champion'] = classic['champion'].map(champion_dict)\n",
    "classic['spell_1'] = classic['spell_1'].map(spell_names)\n",
    "classic['spell_2'] = classic['spell_2'].map(spell_names)"
   ]
  },
  {
   "cell_type": "code",
   "execution_count": 34,
   "metadata": {},
   "outputs": [],
   "source": [
    "# classic.to_csv('../data/classic_games_added_champion_and_spells.csv')"
   ]
  }
 ],
 "metadata": {
  "kernelspec": {
   "display_name": "Python 3",
   "language": "python",
   "name": "python3"
  },
  "language_info": {
   "codemirror_mode": {
    "name": "ipython",
    "version": 3
   },
   "file_extension": ".py",
   "mimetype": "text/x-python",
   "name": "python",
   "nbconvert_exporter": "python",
   "pygments_lexer": "ipython3",
   "version": "3.7.3"
  }
 },
 "nbformat": 4,
 "nbformat_minor": 2
}
