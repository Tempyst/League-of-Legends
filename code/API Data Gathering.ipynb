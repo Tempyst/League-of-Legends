{
 "cells": [
  {
   "cell_type": "markdown",
   "metadata": {},
   "source": [
    "## Gathering Data from League of Legends API "
   ]
  },
  {
   "cell_type": "markdown",
   "metadata": {},
   "source": [
    "Importing relevant libraries to pull and organize the data"
   ]
  },
  {
   "cell_type": "code",
   "execution_count": null,
   "metadata": {},
   "outputs": [],
   "source": [
    "import requests\n",
    "import time\n",
    "import pandas as pd\n",
    "import json"
   ]
  },
  {
   "cell_type": "markdown",
   "metadata": {},
   "source": [
    "Setting the API key variable here"
   ]
  },
  {
   "cell_type": "code",
   "execution_count": null,
   "metadata": {},
   "outputs": [],
   "source": [
    "key = 'INSERT API KEY HERE'"
   ]
  },
  {
   "cell_type": "markdown",
   "metadata": {},
   "source": [
    "We set two variables retrieving static data from the API that was not require an API key. This will be our base data that we use from here on to clean and convert values."
   ]
  },
  {
   "cell_type": "code",
   "execution_count": null,
   "metadata": {},
   "outputs": [],
   "source": [
    "champion_data = requests.get('https://ddragon.leagueoflegends.com/cdn/6.24.1/data/en_US/champion.json').json()\n",
    "rank = requests.get('https://na1.api.riotgames.com/lol/league/v4/masterleagues/by-queue/RANKED_SOLO_5x5?api_key=RGAPI-21b08830-5bd8-485b-bd2b-792f84332895').json()"
   ]
  },
  {
   "cell_type": "markdown",
   "metadata": {},
   "source": [
    "From the summoner rank json, we want to extract the summoner_id for every player retrieved and store them into a list"
   ]
  },
  {
   "cell_type": "code",
   "execution_count": null,
   "metadata": {},
   "outputs": [],
   "source": [
    "master_rank_summoner_id = [] \n",
    "for i in rank['entries']:\n",
    "    master_rank_summoner_id.append(i['summonerId'])"
   ]
  },
  {
   "cell_type": "markdown",
   "metadata": {},
   "source": [
    "We want to change into another api reference and using the summoner ID we retrieved previously, we want to now retrieve the\n",
    "encrypted account ID and store those into another list. From here on, the sleep timer will be 1.3 seconds because Riot (company that owns League of Legends) has a limit of the calls for their API. Since we have a development key, we are only allowed to request a max of 100 calls per 120 seconds. That is 1 call per 1.2 seconds but we wanted to give some room for rest so we set it to 1.3 seconds per call."
   ]
  },
  {
   "cell_type": "code",
   "execution_count": null,
   "metadata": {},
   "outputs": [],
   "source": [
    "master_rank_account_id = []\n",
    "\n",
    "for i in master_rank_summoner_id:\n",
    "    url = 'https://na1.api.riotgames.com/lol/summoner/v4/summoners/' + str(i) + '?api_key=' + key\n",
    "    master_rank_account_id.append(requests.get(url).json()['accountId'])\n",
    "    time.sleep(1.3)"
   ]
  },
  {
   "cell_type": "markdown",
   "metadata": {},
   "source": [
    "At this step, we want the match ID which is requires another layer of digging through the API reference. With the last piece\n",
    "of the puzzle at hand, we use the account IDs to grab the match IDs from every player and store that information into another\n",
    "list"
   ]
  },
  {
   "cell_type": "code",
   "execution_count": null,
   "metadata": {},
   "outputs": [],
   "source": [
    "master_rank_match_id = []\n",
    "\n",
    "for i in master_rank_account_id:\n",
    "    url = 'https://na1.api.riotgames.com/lol/match/v4/matchlists/by-account/' + i + '?api_key=' + key\n",
    "    if requests.get(url).status_code == 200:\n",
    "        data = requests.get(url).json()\n",
    "        for i in data['matches']:\n",
    "            master_rank_match_id.append(i['gameId'])\n",
    "    else:\n",
    "        pass\n",
    "    time.sleep(1.3)"
   ]
  },
  {
   "cell_type": "markdown",
   "metadata": {},
   "source": [
    "After all the loops, we do not want to repeat that process again, therefore we saved a text file containing all the match ID\n",
    "data so we can just call up the IDs without pulling all over again from the top."
   ]
  },
  {
   "cell_type": "code",
   "execution_count": null,
   "metadata": {},
   "outputs": [],
   "source": [
    "with open(\"../files/master_rank_match_id.txt\", \"w\") as output:\n",
    "    output.write(str(master_rank_match_id))"
   ]
  },
  {
   "cell_type": "markdown",
   "metadata": {},
   "source": [
    "This function opens the text file we generated but because the text file was saved as a single string, we use the eval()\n",
    "function to convert the information back into a list"
   ]
  },
  {
   "cell_type": "code",
   "execution_count": null,
   "metadata": {},
   "outputs": [],
   "source": [
    "with open('../files/master_rank_match_id.txt', 'r') as f:\n",
    "    temp = f.read().splitlines()\n",
    "\n",
    "match_id = eval(temp[0])"
   ]
  },
  {
   "cell_type": "markdown",
   "metadata": {},
   "source": [
    "As a precaution, we want to remove any duplicate data before we retrieve any player information. this can be simply applied\n",
    "but setting the list into a set then back into a list to ensure no duplicates remain"
   ]
  },
  {
   "cell_type": "code",
   "execution_count": null,
   "metadata": {},
   "outputs": [],
   "source": [
    "match_id = list(set(match_id))"
   ]
  },
  {
   "cell_type": "markdown",
   "metadata": {},
   "source": [
    "Finally, we have our match data information and we begin pulling player data per match. PLEASE KEEP IN MIND THIS WILL TAKE A \n",
    "VERY LONG TIME. The file containing all player data is stored in the data folder so no need to pull again."
   ]
  },
  {
   "cell_type": "code",
   "execution_count": null,
   "metadata": {},
   "outputs": [],
   "source": [
    "match_data = []\n",
    "\n",
    "for i in match_id:\n",
    "    url = 'https://na1.api.riotgames.com/lol/match/v4/matches/' + str(i) + '?api_key=' + key\n",
    "    match_data.append(requests.get(url).json())\n",
    "    time.sleep(1.3)"
   ]
  },
  {
   "cell_type": "markdown",
   "metadata": {},
   "source": [
    "Since the data retrieve is a huge dictionary, we only want specific data for our analysis. Below we set a placeholder for the dictionary to hold the information we want and append that information to a list created outside the loop. We do this for all players in the file then set it into a dataframe below."
   ]
  },
  {
   "cell_type": "code",
   "execution_count": null,
   "metadata": {},
   "outputs": [],
   "source": [
    "player_list = []\n",
    "for match in range(len(match_data)):\n",
    "    for items in range(5):\n",
    "        try:\n",
    "            player_dict_item = {}\n",
    "            if match_data[match].get('participants'):\n",
    "                player_dict_item['game_mode'] = match_data[match].get('gameMode')\n",
    "            player_dict_item['champion'] = match_data[match].get('participants')[items].get('championId')\n",
    "            player_dict_item['spell_1'] = match_data[match].get('participants')[items].get('spell1Id')\n",
    "            player_dict_item['spell_2'] = match_data[match].get('participants')[items].get('spell2Id')\n",
    "            player_dict_item['player_rank'] = match_data[match].get('participants')[items].get('highestAchievedSeasonTier')\n",
    "            player_dict_item['victory'] = match_data[match].get('participants')[items]['stats'].get('win')\n",
    "            player_dict_item['kills'] = match_data[match].get('participants')[items]['stats'].get('kills')\n",
    "            player_dict_item['deaths'] = match_data[match].get('participants')[items]['stats'].get('deaths')\n",
    "            player_dict_item['assists'] = match_data[match].get('participants')[items]['stats'].get('assists')\n",
    "            player_dict_item['largest_killing_spree'] = match_data[match].get('participants')[items]['stats'].get('largestKillingSpree')\n",
    "            player_dict_item['killing_sprees'] = match_data[match].get('participants')[items]['stats'].get('killingSprees')\n",
    "            player_dict_item['double_kills'] = match_data[match].get('participants')[items]['stats'].get('doubleKills')\n",
    "            player_dict_item['triple_kills'] = match_data[match].get('participants')[items]['stats'].get('tripleKills')\n",
    "            player_dict_item['quadra_kills'] = match_data[match].get('participants')[items]['stats'].get('quadraKills')\n",
    "            player_dict_item['penta_kills'] = match_data[match].get('participants')[items]['stats'].get('pentaKills')\n",
    "            player_dict_item['total_damage_dealt_to_champions'] = match_data[match].get('participants')[items]['stats'].get('totalDamageDealtToChampions')\n",
    "            player_dict_item['vision_score'] = match_data[match].get('participants')[items]['stats'].get('visionScore')\n",
    "            player_dict_item['total_damage_taken'] = match_data[match].get('participants')[items]['stats'].get('totalDamageTaken')\n",
    "            player_dict_item['gold_earned'] = match_data[match].get('participants')[items]['stats'].get('goldEarned')\n",
    "            player_dict_item['gold_spent'] = match_data[match].get('participants')[items]['stats'].get('goldSpent')   \n",
    "            player_dict_item['turret_kills'] = match_data[match].get('participants')[items]['stats'].get('turretKills')\n",
    "            player_dict_item['inhibitor_kills'] = match_data[match].get('participants')[items]['stats'].get('inhibitorKills')\n",
    "            player_dict_item['total_minions_killed'] = match_data[match].get('participants')[items]['stats'].get('totalMinionsKilled')\n",
    "            player_dict_item['wards_placed'] = match_data[match].get('participants')[items]['stats'].get('wardsPlaced')\n",
    "            player_dict_item['wards_killed'] = match_data[match].get('participants')[items]['stats'].get('wardsKilled')   \n",
    "            player_dict_item['first_blood_kill'] = match_data[match].get('participants')[items]['stats'].get('firstBloodKill')\n",
    "            player_dict_item['first_blood_assist'] = match_data[match].get('participants')[items]['stats'].get('firstBloodAssist')\n",
    "            player_dict_item['first_tower_kill'] = match_data[match].get('participants')[items]['stats'].get('firstTowerKill')\n",
    "            player_dict_item['first_tower_assist'] = match_data[match].get('participants')[items]['stats'].get('firstTowerAssist')\n",
    "            player_dict_item['first_inhibitor_kill'] = match_data[match].get('participants')[items]['stats'].get('firstInhibitorKill')\n",
    "            player_dict_item['first_inhibitor_assist'] = match_data[match].get('participants')[items]['stats'].get('firstInhibitorAssist')  \n",
    "            player_dict_item['lane'] = match_data[match].get('participants')[items]['timeline'].get('lane')\n",
    "            player_dict_item['role'] = match_data[match].get('participants')[items]['timeline'].get('role')\n",
    "            player_dict_item['team_tower_kills'] = match_data[match]['teams'][0]['towerKills']\n",
    "            player_dict_item['team_baron_kill'] = match_data[match]['teams'][0]['baronKills']\n",
    "            player_dict_item['team_dragon_kills'] = match_data[match]['teams'][0]['dragonKills']\n",
    "            player_dict_item['team_rift_herald_kills'] = match_data[match]['teams'][0]['riftHeraldKills']\n",
    "            \n",
    "\n",
    "            player_list.append(player_dict_item)\n",
    "        except:\n",
    "            pass\n",
    "        \n",
    "    for items in range(5,10):\n",
    "        try:\n",
    "            player_dict_item = {}\n",
    "            player_dict_item['game_mode'] = match_data[match].get('gameMode')\n",
    "            if match_data[match].get('participants')[items]:\n",
    "                player_dict_item['champion'] = match_data[match].get('participants')[items].get('championId')\n",
    "            player_dict_item['spell_1'] = match_data[match].get('participants')[items].get('spell1Id')\n",
    "            player_dict_item['spell_2'] = match_data[match].get('participants')[items].get('spell2Id')\n",
    "            player_dict_item['player_rank'] = match_data[match].get('participants')[items].get('highestAchievedSeasonTier')\n",
    "            player_dict_item['victory'] = match_data[match].get('participants')[items]['stats'].get('win')\n",
    "            player_dict_item['kills'] = match_data[match].get('participants')[items]['stats'].get('kills')\n",
    "            player_dict_item['deaths'] = match_data[match].get('participants')[items]['stats'].get('deaths')\n",
    "            player_dict_item['assists'] = match_data[match].get('participants')[items]['stats'].get('assists')\n",
    "            player_dict_item['largest_killing_spree'] = match_data[match].get('participants')[items]['stats'].get('largestKillingSpree')\n",
    "            player_dict_item['killing_sprees'] = match_data[match].get('participants')[items]['stats'].get('killingSprees')\n",
    "            player_dict_item['double_kills'] = match_data[match].get('participants')[items]['stats'].get('doubleKills')\n",
    "            player_dict_item['triple_kills'] = match_data[match].get('participants')[items]['stats'].get('tripleKills')\n",
    "            player_dict_item['quadra_kills'] = match_data[match].get('participants')[items]['stats'].get('quadraKills')\n",
    "            player_dict_item['penta_kills'] = match_data[match].get('participants')[items]['stats'].get('pentaKills')\n",
    "            player_dict_item['total_damage_dealt_to_champions'] = match_data[match].get('participants')[items]['stats'].get('totalDamageDealtToChampions')\n",
    "            player_dict_item['vision_score'] = match_data[match].get('participants')[items]['stats'].get('visionScore')\n",
    "            player_dict_item['total_damage_taken'] = match_data[match].get('participants')[items]['stats'].get('totalDamageTaken')\n",
    "            player_dict_item['gold_earned'] = match_data[match].get('participants')[items]['stats'].get('goldEarned')\n",
    "            player_dict_item['gold_spent'] = match_data[match].get('participants')[items]['stats'].get('goldSpent')   \n",
    "            player_dict_item['turret_kills'] = match_data[match].get('participants')[items]['stats'].get('turretKills')\n",
    "            player_dict_item['inhibitor_kills'] = match_data[match].get('participants')[items]['stats'].get('inhibitorKills')\n",
    "            player_dict_item['total_minions_killed'] = match_data[match].get('participants')[items]['stats'].get('totalMinionsKilled')\n",
    "            player_dict_item['wards_placed'] = match_data[match].get('participants')[items]['stats'].get('wardsPlaced')\n",
    "            player_dict_item['wards_killed'] = match_data[match].get('participants')[items]['stats'].get('wardsKilled')   \n",
    "            player_dict_item['first_blood_kill'] = match_data[match].get('participants')[items]['stats'].get('firstBloodKill')\n",
    "            player_dict_item['first_blood_assist'] = match_data[match].get('participants')[items]['stats'].get('firstBloodAssist')\n",
    "            player_dict_item['first_tower_kill'] = match_data[match].get('participants')[items]['stats'].get('firstTowerKill')\n",
    "            player_dict_item['first_tower_assist'] = match_data[match].get('participants')[items]['stats'].get('firstTowerAssist')\n",
    "            player_dict_item['first_inhibitor_kill'] = match_data[match].get('participants')[items]['stats'].get('firstInhibitorKill')\n",
    "            player_dict_item['first_inhibitor_assist'] = match_data[match].get('participants')[items]['stats'].get('firstInhibitorAssist')  \n",
    "            player_dict_item['lane'] = match_data[match].get('participants')[items]['timeline'].get('lane')\n",
    "            player_dict_item['role'] = match_data[match].get('participants')[items]['timeline'].get('role')\n",
    "            player_dict_item['team_tower_kills'] = match_data[match]['teams'][1]['towerKills']\n",
    "            player_dict_item['team_baron_kill'] = match_data[match]['teams'][1]['baronKills']\n",
    "            player_dict_item['team_dragon_kills'] = match_data[match]['teams'][1]['dragonKills']\n",
    "            player_dict_item['team_rift_herald_kills'] = match_data[match]['teams'][1]['riftHeraldKills']\n",
    "           \n",
    "            \n",
    "            player_list.append(player_dict_item)\n",
    "        except:\n",
    "            pass\n"
   ]
  },
  {
   "cell_type": "markdown",
   "metadata": {},
   "source": [
    "This step simply stores the giant list we created into a dataframe"
   ]
  },
  {
   "cell_type": "code",
   "execution_count": null,
   "metadata": {},
   "outputs": [],
   "source": [
    "df = pd.DataFrame(player_list)"
   ]
  },
  {
   "cell_type": "markdown",
   "metadata": {},
   "source": [
    "As a precaution, we stored the dataframe as a `.csv` file in case we have to restart the notebook and do not want to pull the data again."
   ]
  },
  {
   "cell_type": "code",
   "execution_count": null,
   "metadata": {},
   "outputs": [],
   "source": [
    "# df.to_csv('../data/all_playhers_combined.csv')"
   ]
  },
  {
   "cell_type": "markdown",
   "metadata": {},
   "source": [
    "The data has 3 game modes included: Classic, ARAM (All Mid, All Random, and URF (Ultra Rapid Fire). We are only interested in Classic mode because the other two modes are more or less special game modes that are not part of the standard setting. Basically the other 2 modes are for fun and not a standard Summoner's Rift match."
   ]
  },
  {
   "cell_type": "code",
   "execution_count": null,
   "metadata": {},
   "outputs": [],
   "source": [
    "# classic =  df[df['game_mode'] == 'CLASSIC']"
   ]
  },
  {
   "cell_type": "markdown",
   "metadata": {},
   "source": [
    "As above, we want to save another `csv` file just in case we get interrupted creating the data."
   ]
  },
  {
   "cell_type": "code",
   "execution_count": null,
   "metadata": {},
   "outputs": [],
   "source": [
    "# classic.to_csv('../data/classic_games.csv')"
   ]
  },
  {
   "cell_type": "markdown",
   "metadata": {},
   "source": [
    "At this step, we want to incorporate some formatting before we bring the data into main notebook. The champions column are numerical IDs instead of their actual name. From the data we pull above, we have all the champion information including their name and associated ID. We first create a list of dictionary where the ID is the key and value is the name. Then we store that information into a list for every champion. Next we do the same for summoner spells. The file was a `json` file downloaded from Riot's [Data Dragon](https://developer.riotgames.com/ddragon.html) page. Similar to what we did with the character list, we created a list of dictionarys with the key being the ID and value being the spell name."
   ]
  },
  {
   "cell_type": "code",
   "execution_count": null,
   "metadata": {},
   "outputs": [],
   "source": [
    "names = list(champion_data['data'].keys())\n",
    "\n",
    "champion_list = []\n",
    "champion_dict = {}\n",
    "\n",
    "for i in names:\n",
    "    temp = {}\n",
    "    temp[champion_data['data'][i]['key']] = i\n",
    "    champion_list.append(temp)\n",
    "\n",
    "for i in champion_list:\n",
    "    champion_dict.update(i)\n",
    "    \n",
    "with open(\"capstone/data/spells.json\", \"r\") as read_file:\n",
    "    spells = json.load(read_file)\n",
    "\n",
    "spell_names = {}\n",
    "for i in spells:\n",
    "    spell_names.update({i['key']: i['name']})"
   ]
  },
  {
   "cell_type": "markdown",
   "metadata": {},
   "source": [
    "We converted the following columns into string in preparation of replacing all values with the appropriate names."
   ]
  },
  {
   "cell_type": "code",
   "execution_count": null,
   "metadata": {},
   "outputs": [],
   "source": [
    "classic['champion'] = classic['champion'].astype(str)\n",
    "classic['spell_1'] = classic['spell_1'].astype(str)\n",
    "classic['spell_2'] = classic['spell_2'].astype(str)"
   ]
  },
  {
   "cell_type": "markdown",
   "metadata": {},
   "source": [
    "Here we map the IDs to their names and replace every value in the data with the appropriate name."
   ]
  },
  {
   "cell_type": "code",
   "execution_count": null,
   "metadata": {},
   "outputs": [],
   "source": [
    "classic['champion'] = classic['champion'].map(champion_dict)\n",
    "classic['spell_1'] = classic['spell_1'].map(spell_names)\n",
    "classic['spell_2'] = classic['spell_2'].map(spell_names)"
   ]
  },
  {
   "cell_type": "markdown",
   "metadata": {},
   "source": [
    "We finally save the file ready for analysis in our main notebook."
   ]
  },
  {
   "cell_type": "code",
   "execution_count": null,
   "metadata": {},
   "outputs": [],
   "source": [
    "# classic.to_csv('../data/classic_games_added_champion_and_spells.csv')"
   ]
  },
  {
   "cell_type": "markdown",
   "metadata": {},
   "source": [
    "Here continue [here](League%20of%20Legends.ipynb) for full analysis of the data."
   ]
  }
 ],
 "metadata": {
  "kernelspec": {
   "display_name": "Python 3",
   "language": "python",
   "name": "python3"
  },
  "language_info": {
   "codemirror_mode": {
    "name": "ipython",
    "version": 3
   },
   "file_extension": ".py",
   "mimetype": "text/x-python",
   "name": "python",
   "nbconvert_exporter": "python",
   "pygments_lexer": "ipython3",
   "version": "3.7.3"
  }
 },
 "nbformat": 4,
 "nbformat_minor": 2
}
