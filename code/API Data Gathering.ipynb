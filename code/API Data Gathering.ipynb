{
 "cells": [
  {
   "cell_type": "markdown",
   "metadata": {},
   "source": [
    "## Gathering Data from League of Legends API "
   ]
  },
  {
   "cell_type": "markdown",
   "metadata": {},
   "source": [
    "Importing relevant libraries to pull and organize the data"
   ]
  },
  {
   "cell_type": "code",
   "execution_count": 1,
   "metadata": {},
   "outputs": [],
   "source": [
    "import requests\n",
    "import time\n",
    "import pandas as pd\n",
    "import json"
   ]
  },
  {
   "cell_type": "markdown",
   "metadata": {},
   "source": [
    "Setting the API key variable here"
   ]
  },
  {
   "cell_type": "code",
   "execution_count": 2,
   "metadata": {},
   "outputs": [],
   "source": [
    "key = 'RGAPI-2c26df9d-9e4b-427f-bbba-2f300e15b217'"
   ]
  },
  {
   "cell_type": "markdown",
   "metadata": {},
   "source": [
    "We set two variables retrieving static data from the API that was not require an API key. This will be our base data that we use from here on to clean and convert values."
   ]
  },
  {
   "cell_type": "code",
   "execution_count": 3,
   "metadata": {},
   "outputs": [],
   "source": [
    "champion_data = requests.get('http://ddragon.leagueoflegends.com/cdn/10.16.1/data/en_US/champion.json').json()\n",
    "rank = requests.get(f'https://na1.api.riotgames.com/lol/league/v4/masterleagues/by-queue/RANKED_SOLO_5x5?api_key={key}').json()\n",
    "spells = requests.get('http://ddragon.leagueoflegends.com/cdn/10.16.1/data/en_US/summoner.json').json()\n",
    "items = requests.get('http://ddragon.leagueoflegends.com/cdn/10.16.1/data/en_US/item.json').json()"
   ]
  },
  {
   "cell_type": "markdown",
   "metadata": {},
   "source": [
    "From the summoner rank json, we want to extract the Summoner ID for every player retrieved and store them into a list"
   ]
  },
  {
   "cell_type": "code",
   "execution_count": 4,
   "metadata": {},
   "outputs": [],
   "source": [
    "master_rank_summoner_id = [i['summonerId'] for i in rank['entries']]"
   ]
  },
  {
   "cell_type": "markdown",
   "metadata": {},
   "source": [
    "We want to change into another api reference and using the summoner ID we retrieved previously, we want to now retrieve the\n",
    "encrypted account ID and store those into another list. From here on, the sleep timer will be 1.3 seconds because Riot (company that owns League of Legends) has a limit of the calls for their API. Since we have a development key, we are only allowed to request a max of 100 calls per 120 seconds. That is 1 call per 1.2 seconds but we wanted to give some room for rest so we set it to 1.3 seconds per call."
   ]
  },
  {
   "cell_type": "code",
   "execution_count": 7,
   "metadata": {},
   "outputs": [],
   "source": [
    "master_rank_account_id = []\n",
    "\n",
    "for i in master_rank_summoner_id:\n",
    "    url = 'https://na1.api.riotgames.com/lol/summoner/v4/summoners/' + str(i) + '?api_key=' + key\n",
    "    master_rank_account_id.append(requests.get(url).json()['accountId'])\n",
    "    time.sleep(1.3)"
   ]
  },
  {
   "cell_type": "code",
   "execution_count": 8,
   "metadata": {},
   "outputs": [],
   "source": [
    "with open(\"../files/master_rank_account_id.txt\", \"w\") as output:\n",
    "    output.write(str(master_rank_account_id))"
   ]
  },
  {
   "cell_type": "markdown",
   "metadata": {},
   "source": [
    "At this step, we want the match ID which is requires another layer of digging through the API reference. With the last piece\n",
    "of the puzzle at hand, we use the account IDs to grab the match IDs from every player and store that information into another\n",
    "list"
   ]
  },
  {
   "cell_type": "code",
   "execution_count": 118,
   "metadata": {},
   "outputs": [],
   "source": [
    "master_rank_match_id = []\n",
    "\n",
    "for i in master_rank_account_id:\n",
    "    url = 'https://na1.api.riotgames.com/lol/match/v4/matchlists/by-account/' + i + '?api_key=' + key\n",
    "    try:\n",
    "        data = requests.get(url).json()\n",
    "        for i in data['matches']:\n",
    "            master_rank_match_id.append(i['gameId'])\n",
    "    except:\n",
    "        pass\n",
    "    time.sleep(1.3)"
   ]
  },
  {
   "cell_type": "markdown",
   "metadata": {},
   "source": [
    "After all the loops, we do not want to repeat that process again, therefore we saved a text file containing all the match ID\n",
    "data so we can just call up the IDs without pulling all over again from the top."
   ]
  },
  {
   "cell_type": "code",
   "execution_count": 121,
   "metadata": {},
   "outputs": [],
   "source": [
    "with open(\"../files/master_rank_match_id.txt\", \"w\") as output:\n",
    "    output.write(str(master_rank_match_id))"
   ]
  },
  {
   "cell_type": "markdown",
   "metadata": {},
   "source": [
    "This function opens the text file we generated but because the text file was saved as a single string, we use the eval()\n",
    "function to convert the information back into a list"
   ]
  },
  {
   "cell_type": "code",
   "execution_count": 4,
   "metadata": {},
   "outputs": [],
   "source": [
    "with open('../files/master_rank_match_id.txt', 'r') as f:\n",
    "    temp = f.read().splitlines()\n",
    "\n",
    "match_id = eval(temp[0])"
   ]
  },
  {
   "cell_type": "markdown",
   "metadata": {},
   "source": [
    "As a precaution, we want to remove any duplicate data before we retrieve any player information. this can be simply applied\n",
    "but setting the list into a set then back into a list to ensure no duplicates remain"
   ]
  },
  {
   "cell_type": "code",
   "execution_count": 5,
   "metadata": {},
   "outputs": [],
   "source": [
    "match_id = list(set(match_id))"
   ]
  },
  {
   "cell_type": "markdown",
   "metadata": {},
   "source": [
    "Finally, we have our match data information and we begin pulling player data per match. PLEASE KEEP IN MIND THIS WILL TAKE A \n",
    "VERY LONG TIME. The file containing all player data is stored in the data folder so no need to pull again."
   ]
  },
  {
   "cell_type": "code",
   "execution_count": null,
   "metadata": {},
   "outputs": [],
   "source": [
    "match_data = []\n",
    "\n",
    "for i in match_id[8001:16000]:\n",
    "    url = f'https://na1.api.riotgames.com/lol/match/v4/matches/{str(i)}?api_key={key}'\n",
    "    match_data.append(requests.get(url).json())\n",
    "    time.sleep(1.25)"
   ]
  },
  {
   "cell_type": "markdown",
   "metadata": {},
   "source": [
    "Since the data retrieve is a huge dictionary, we only want specific data for our analysis. Below we set a placeholder for the dictionary to hold the information we want and append that information to a list created outside the loop. We do this for all players in the file then set it into a dataframe below."
   ]
  },
  {
   "cell_type": "code",
   "execution_count": 23,
   "metadata": {},
   "outputs": [],
   "source": [
    "player_list = []\n",
    "for match in range(len(match_data)):\n",
    "    for items in range(5):\n",
    "        try:\n",
    "            player_dict_item = {}\n",
    "            if match_data[match].get('participants'):\n",
    "                player_dict_item['game_mode'] = match_data[match].get('gameMode')\n",
    "            player_dict_item['champion'] = match_data[match].get('participants')[items].get('championId')\n",
    "            player_dict_item['spell_1'] = match_data[match].get('participants')[items].get('spell1Id')\n",
    "            player_dict_item['spell_2'] = match_data[match].get('participants')[items].get('spell2Id')\n",
    "            player_dict_item['item_0'] = match_data[match].get('participants')[items]['stats'].get('item0')\n",
    "            player_dict_item['item_1'] = match_data[match].get('participants')[items]['stats'].get('item1')\n",
    "            player_dict_item['item_2'] = match_data[match].get('participants')[items]['stats'].get('item2')\n",
    "            player_dict_item['item_3'] = match_data[match].get('participants')[items]['stats'].get('item3')\n",
    "            player_dict_item['item_4'] = match_data[match].get('participants')[items]['stats'].get('item4')\n",
    "            player_dict_item['item_5'] = match_data[match].get('participants')[items]['stats'].get('item5')\n",
    "            player_dict_item['item_6'] = match_data[match].get('participants')[items]['stats'].get('item6')\n",
    "            player_dict_item['victory'] = match_data[match].get('participants')[items]['stats'].get('win')\n",
    "            player_dict_item['kills'] = match_data[match].get('participants')[items]['stats'].get('kills')\n",
    "            player_dict_item['deaths'] = match_data[match].get('participants')[items]['stats'].get('deaths')\n",
    "            player_dict_item['assists'] = match_data[match].get('participants')[items]['stats'].get('assists')\n",
    "            player_dict_item['largest_killing_spree'] = match_data[match].get('participants')[items]['stats'].get('largestKillingSpree')\n",
    "            player_dict_item['killing_sprees'] = match_data[match].get('participants')[items]['stats'].get('killingSprees')\n",
    "            player_dict_item['largest_time_spent_living'] = match_data[match].get('participants')[items]['stats'].get('longestTimeSpentLiving')\n",
    "            player_dict_item['double_kills'] = match_data[match].get('participants')[items]['stats'].get('doubleKills')\n",
    "            player_dict_item['triple_kills'] = match_data[match].get('participants')[items]['stats'].get('tripleKills')\n",
    "            player_dict_item['quadra_kills'] = match_data[match].get('participants')[items]['stats'].get('quadraKills')\n",
    "            player_dict_item['penta_kills'] = match_data[match].get('participants')[items]['stats'].get('pentaKills')\n",
    "            player_dict_item['total_heal'] = match_data[match].get('participants')[items]['stats'].get('totalHeal')\n",
    "            player_dict_item['total_units_healed'] = match_data[match].get('participants')[items]['stats'].get('totalUnitsHealed')\n",
    "            player_dict_item['damage_self_mitigated'] = match_data[match].get('participants')[items]['stats'].get('damageSelfMitigated')\n",
    "            player_dict_item['total_damage_dealt_to_champions'] = match_data[match].get('participants')[items]['stats'].get('totalDamageDealtToChampions')\n",
    "            player_dict_item['total_damage_dealt'] = match_data[match].get('participants')[items]['stats'].get('totalDamageDealt')\n",
    "            player_dict_item['magical_damage_dealt'] = match_data[match].get('participants')[items]['stats'].get('magicDamageDealt')\n",
    "            player_dict_item['phsical_damage_dealt'] = match_data[match].get('participants')[items]['stats'].get('physicalDamageDealt')\n",
    "            player_dict_item['true_damage_dealt'] = match_data[match].get('participants')[items]['stats'].get('trueDamageDealt') \n",
    "            player_dict_item['vision_score'] = match_data[match].get('participants')[items]['stats'].get('visionScore')\n",
    "            player_dict_item['total_damage_taken'] = match_data[match].get('participants')[items]['stats'].get('totalDamageTaken')\n",
    "            player_dict_item['magical_damage_taken'] = match_data[match].get('participants')[items]['stats'].get('magicalDamageTaken')\n",
    "            player_dict_item['physical_damage_taken'] = match_data[match].get('participants')[items]['stats'].get('physicalDamageTaken')\n",
    "            player_dict_item['true_damage_taken'] = match_data[match].get('participants')[items]['stats'].get('trueDamageTaken')\n",
    "            player_dict_item['gold_earned'] = match_data[match].get('participants')[items]['stats'].get('goldEarned')\n",
    "            player_dict_item['gold_spent'] = match_data[match].get('participants')[items]['stats'].get('goldSpent')   \n",
    "            player_dict_item['turret_kills'] = match_data[match].get('participants')[items]['stats'].get('turretKills')\n",
    "            player_dict_item['inhibitor_kills'] = match_data[match].get('participants')[items]['stats'].get('inhibitorKills')\n",
    "            player_dict_item['total_minions_killed'] = match_data[match].get('participants')[items]['stats'].get('totalMinionsKilled')\n",
    "            player_dict_item['wards_placed'] = match_data[match].get('participants')[items]['stats'].get('wardsPlaced')\n",
    "            player_dict_item['wards_killed'] = match_data[match].get('participants')[items]['stats'].get('wardsKilled')   \n",
    "            player_dict_item['first_blood_kill'] = match_data[match].get('participants')[items]['stats'].get('firstBloodKill')\n",
    "            player_dict_item['first_blood_assist'] = match_data[match].get('participants')[items]['stats'].get('firstBloodAssist')\n",
    "            player_dict_item['first_tower_kill'] = match_data[match].get('participants')[items]['stats'].get('firstTowerKill')\n",
    "            player_dict_item['first_tower_assist'] = match_data[match].get('participants')[items]['stats'].get('firstTowerAssist')\n",
    "            player_dict_item['first_inhibitor_kill'] = match_data[match].get('participants')[items]['stats'].get('firstInhibitorKill')\n",
    "            player_dict_item['first_inhibitor_assist'] = match_data[match].get('participants')[items]['stats'].get('firstInhibitorAssist')  \n",
    "            player_dict_item['lane'] = match_data[match].get('participants')[items]['timeline'].get('lane')\n",
    "            player_dict_item['role'] = match_data[match].get('participants')[items]['timeline'].get('role')\n",
    "            player_list.append(player_dict_item)\n",
    "            \n",
    "        except:\n",
    "            pass\n",
    "        \n",
    "    for items in range(5,10):\n",
    "        try:\n",
    "            player_dict_item = {}\n",
    "            player_dict_item['game_mode'] = match_data[match].get('gameMode')\n",
    "            if match_data[match].get('participants')[items]:\n",
    "                player_dict_item['champion'] = match_data[match].get('participants')[items].get('championId')\n",
    "            player_dict_item['spell_1'] = match_data[match].get('participants')[items].get('spell1Id')\n",
    "            player_dict_item['spell_2'] = match_data[match].get('participants')[items].get('spell2Id')\n",
    "            player_dict_item['item_0'] = match_data[match].get('participants')[items]['stats'].get('item0')\n",
    "            player_dict_item['item_1'] = match_data[match].get('participants')[items]['stats'].get('item1')\n",
    "            player_dict_item['item_2'] = match_data[match].get('participants')[items]['stats'].get('item2')\n",
    "            player_dict_item['item_3'] = match_data[match].get('participants')[items]['stats'].get('item3')\n",
    "            player_dict_item['item_4'] = match_data[match].get('participants')[items]['stats'].get('item4')\n",
    "            player_dict_item['item_5'] = match_data[match].get('participants')[items]['stats'].get('item5')\n",
    "            player_dict_item['item_6'] = match_data[match].get('participants')[items]['stats'].get('item6')\n",
    "            player_dict_item['victory'] = match_data[match].get('participants')[items]['stats'].get('win')\n",
    "            player_dict_item['kills'] = match_data[match].get('participants')[items]['stats'].get('kills')\n",
    "            player_dict_item['deaths'] = match_data[match].get('participants')[items]['stats'].get('deaths')\n",
    "            player_dict_item['assists'] = match_data[match].get('participants')[items]['stats'].get('assists')\n",
    "            player_dict_item['largest_killing_spree'] = match_data[match].get('participants')[items]['stats'].get('largestKillingSpree')\n",
    "            player_dict_item['killing_sprees'] = match_data[match].get('participants')[items]['stats'].get('killingSprees')\n",
    "            player_dict_item['largest_time_spent_living'] = match_data[match].get('participants')[items]['stats'].get('longestTimeSpentLiving')\n",
    "            player_dict_item['double_kills'] = match_data[match].get('participants')[items]['stats'].get('doubleKills')\n",
    "            player_dict_item['triple_kills'] = match_data[match].get('participants')[items]['stats'].get('tripleKills')\n",
    "            player_dict_item['quadra_kills'] = match_data[match].get('participants')[items]['stats'].get('quadraKills')\n",
    "            player_dict_item['penta_kills'] = match_data[match].get('participants')[items]['stats'].get('pentaKills')\n",
    "            player_dict_item['total_heal'] = match_data[match].get('participants')[items]['stats'].get('totalHeal')\n",
    "            player_dict_item['total_units_healed'] = match_data[match].get('participants')[items]['stats'].get('totalUnitsHealed')\n",
    "            player_dict_item['damage_self_mitigated'] = match_data[match].get('participants')[items]['stats'].get('damageSelfMitigated')\n",
    "            player_dict_item['total_damage_dealt'] = match_data[match].get('participants')[items]['stats'].get('totalDamageDealt')\n",
    "            player_dict_item['magical_damage_dealt'] = match_data[match].get('participants')[items]['stats'].get('magicDamageDealt')\n",
    "            player_dict_item['phsical_damage_dealt'] = match_data[match].get('participants')[items]['stats'].get('physicalDamageDealt')\n",
    "            player_dict_item['true_damage_dealt'] = match_data[match].get('participants')[items]['stats'].get('trueDamageDealt')\n",
    "            player_dict_item['total_damage_dealt_to_champions'] = match_data[match].get('participants')[items]['stats'].get('totalDamageDealtToChampions')\n",
    "            player_dict_item['vision_score'] = match_data[match].get('participants')[items]['stats'].get('visionScore')\n",
    "            player_dict_item['total_damage_taken'] = match_data[match].get('participants')[items]['stats'].get('totalDamageTaken')\n",
    "            player_dict_item['magical_damage_taken'] = match_data[match].get('participants')[items]['stats'].get('magicalDamageTaken')\n",
    "            player_dict_item['physical_damage_taken'] = match_data[match].get('participants')[items]['stats'].get('physicalDamageTaken')\n",
    "            player_dict_item['true_damage_taken'] = match_data[match].get('participants')[items]['stats'].get('trueDamageTaken')\n",
    "            player_dict_item['gold_earned'] = match_data[match].get('participants')[items]['stats'].get('goldEarned')\n",
    "            player_dict_item['gold_spent'] = match_data[match].get('participants')[items]['stats'].get('goldSpent')   \n",
    "            player_dict_item['turret_kills'] = match_data[match].get('participants')[items]['stats'].get('turretKills')\n",
    "            player_dict_item['inhibitor_kills'] = match_data[match].get('participants')[items]['stats'].get('inhibitorKills')\n",
    "            player_dict_item['total_minions_killed'] = match_data[match].get('participants')[items]['stats'].get('totalMinionsKilled')\n",
    "            player_dict_item['wards_placed'] = match_data[match].get('participants')[items]['stats'].get('wardsPlaced')\n",
    "            player_dict_item['wards_killed'] = match_data[match].get('participants')[items]['stats'].get('wardsKilled')   \n",
    "            player_dict_item['first_blood_kill'] = match_data[match].get('participants')[items]['stats'].get('firstBloodKill')\n",
    "            player_dict_item['first_blood_assist'] = match_data[match].get('participants')[items]['stats'].get('firstBloodAssist')\n",
    "            player_dict_item['first_tower_kill'] = match_data[match].get('participants')[items]['stats'].get('firstTowerKill')\n",
    "            player_dict_item['first_tower_assist'] = match_data[match].get('participants')[items]['stats'].get('firstTowerAssist')\n",
    "            player_dict_item['first_inhibitor_kill'] = match_data[match].get('participants')[items]['stats'].get('firstInhibitorKill')\n",
    "            player_dict_item['first_inhibitor_assist'] = match_data[match].get('participants')[items]['stats'].get('firstInhibitorAssist')  \n",
    "            player_dict_item['lane'] = match_data[match].get('participants')[items]['timeline'].get('lane')\n",
    "            player_dict_item['role'] = match_data[match].get('participants')[items]['timeline'].get('role')\n",
    "            player_list.append(player_dict_item)\n",
    "        except:\n",
    "            pass\n"
   ]
  },
  {
   "cell_type": "markdown",
   "metadata": {},
   "source": [
    "This step simply stores the giant list we created into a dataframe"
   ]
  },
  {
   "cell_type": "code",
   "execution_count": 24,
   "metadata": {},
   "outputs": [],
   "source": [
    "df = pd.DataFrame(player_list)"
   ]
  },
  {
   "cell_type": "markdown",
   "metadata": {},
   "source": [
    "As a precaution, we stored the dataframe as a `.csv` file in case we have to restart the notebook and do not want to pull the data again."
   ]
  },
  {
   "cell_type": "code",
   "execution_count": 15,
   "metadata": {},
   "outputs": [],
   "source": [
    "# df.to_csv('../data/part1.csv')"
   ]
  },
  {
   "cell_type": "code",
   "execution_count": null,
   "metadata": {},
   "outputs": [],
   "source": [
    "# df.to_csv('../data/part2.csv')"
   ]
  },
  {
   "cell_type": "markdown",
   "metadata": {},
   "source": [
    "The data has 3 game modes included: Classic, ARAM (All Mid, All Random, and URF (Ultra Rapid Fire). We are only interested in Classic mode because the other two modes are more or less special game modes that are not part of the standard setting. Basically the other 2 modes are for fun and not a standard Summoner's Rift match."
   ]
  },
  {
   "cell_type": "code",
   "execution_count": null,
   "metadata": {},
   "outputs": [],
   "source": [
    "# classic =  df[df['game_mode'] == 'CLASSIC']"
   ]
  },
  {
   "cell_type": "markdown",
   "metadata": {},
   "source": [
    "As above, we want to save another `csv` file just in case we get interrupted creating the data."
   ]
  },
  {
   "cell_type": "code",
   "execution_count": null,
   "metadata": {},
   "outputs": [],
   "source": [
    "# classic.to_csv('../data/classic_games.csv')"
   ]
  },
  {
   "cell_type": "markdown",
   "metadata": {},
   "source": [
    "At this step, we want to incorporate some formatting before we bring the data into main notebook. The champions column are numerical IDs instead of their actual name. From the data we pull above, we have all the champion information including their name and associated ID. We first create a list of dictionary where the ID is the key and value is the name. Then we store that information into a list for every champion. Next we do the same for summoner spells. The file was a `json` file downloaded from Riot's [Data Dragon](https://developer.riotgames.com/ddragon.html) page. Similar to what we did with the character list, we created a list of dictionarys with the key being the ID and value being the spell name."
   ]
  },
  {
   "cell_type": "code",
   "execution_count": 68,
   "metadata": {},
   "outputs": [],
   "source": [
    "champion_dict = {champion_data['data'][list(champion_data['data'].keys())[i]]['key']: list(champion_data['data'].keys())[i]  \n",
    "                 for i \n",
    "                 in range(len(list(champion_data['data'].keys())))}\n",
    "\n",
    "\n",
    "spell_dict = {spells['data'][list(spells['data'].keys())[i]]['key']: spells['data'][list(spells['data'].keys())[i]]['name'] \n",
    "             for i\n",
    "             in range(len(list(spells['data'].keys())))}\n",
    "\n",
    "items_dict = {list(items['data'])[i]: items['data'][list(items['data'])[i]]['name'] \n",
    "              for i \n",
    "              in range(len(list(items['data'])))}"
   ]
  },
  {
   "cell_type": "markdown",
   "metadata": {},
   "source": [
    "We converted the following columns into string in preparation of replacing all values with the appropriate names."
   ]
  },
  {
   "cell_type": "code",
   "execution_count": 100,
   "metadata": {},
   "outputs": [],
   "source": [
    "columns = ['champion', 'spell_1', 'spell_2', 'item_0', 'item_1', 'item_2', 'item_3', 'item_4', 'item_5', 'item_6']\n",
    "\n",
    "for col in columns:\n",
    "    df[col] = df[col].astype(str)"
   ]
  },
  {
   "cell_type": "markdown",
   "metadata": {},
   "source": [
    "Here we map the IDs to their names and replace every value in the data with the appropriate name."
   ]
  },
  {
   "cell_type": "code",
   "execution_count": 110,
   "metadata": {},
   "outputs": [],
   "source": [
    "df['champion'] = df['champion'].map(champion_dict)\n",
    "df['spell_1'] = df['spell_1'].map(spell_dict)\n",
    "df['spell_2'] = df['spell_2'].map(spell_dict)\n",
    "\n",
    "for col in columns[3:]:\n",
    "    df[col] = df[col].map(items_dict)"
   ]
  },
  {
   "cell_type": "markdown",
   "metadata": {},
   "source": [
    "We finally save the file ready for analysis in our main notebook."
   ]
  },
  {
   "cell_type": "code",
   "execution_count": null,
   "metadata": {},
   "outputs": [],
   "source": [
    "# classic.to_csv('../data/classic_games_added_champion_and_spells.csv')"
   ]
  },
  {
   "cell_type": "markdown",
   "metadata": {},
   "source": [
    "Here continue [here](League%20of%20Legends.ipynb) for full analysis of the data."
   ]
  },
  {
   "cell_type": "code",
   "execution_count": 135,
   "metadata": {},
   "outputs": [],
   "source": [
    "my_list = [2,8,12,8,5,1,5,8,2]"
   ]
  },
  {
   "cell_type": "code",
   "execution_count": 133,
   "metadata": {},
   "outputs": [],
   "source": [
    "my_list.sort()"
   ]
  },
  {
   "cell_type": "code",
   "execution_count": 136,
   "metadata": {},
   "outputs": [
    {
     "data": {
      "text/plain": [
       "[2, 8, 12, 8, 5, 1, 5, 8, 2]"
      ]
     },
     "execution_count": 136,
     "metadata": {},
     "output_type": "execute_result"
    }
   ],
   "source": [
    "my_list"
   ]
  },
  {
   "cell_type": "code",
   "execution_count": 141,
   "metadata": {},
   "outputs": [
    {
     "ename": "ValueError",
     "evalue": "arrays must all be same length",
     "output_type": "error",
     "traceback": [
      "\u001b[1;31m---------------------------------------------------------------------------\u001b[0m",
      "\u001b[1;31mValueError\u001b[0m                                Traceback (most recent call last)",
      "\u001b[1;32m<ipython-input-141-83c37e53b73b>\u001b[0m in \u001b[0;36m<module>\u001b[1;34m\u001b[0m\n\u001b[1;32m----> 1\u001b[1;33m \u001b[0mpd\u001b[0m\u001b[1;33m.\u001b[0m\u001b[0mDataFrame\u001b[0m\u001b[1;33m(\u001b[0m\u001b[1;33m{\u001b[0m\u001b[1;34m'A'\u001b[0m\u001b[1;33m:\u001b[0m\u001b[1;33m[\u001b[0m\u001b[1;36m1\u001b[0m\u001b[1;33m,\u001b[0m\u001b[1;36m2\u001b[0m\u001b[1;33m,\u001b[0m\u001b[1;36m3\u001b[0m\u001b[1;33m,\u001b[0m\u001b[1;36m4\u001b[0m\u001b[1;33m,\u001b[0m\u001b[1;36m5\u001b[0m\u001b[1;33m]\u001b[0m\u001b[1;33m,\u001b[0m \u001b[1;34m'B'\u001b[0m\u001b[1;33m:\u001b[0m\u001b[1;33m[\u001b[0m\u001b[1;36m3\u001b[0m\u001b[1;33m,\u001b[0m\u001b[1;36m4\u001b[0m\u001b[1;33m,\u001b[0m\u001b[1;36m5\u001b[0m\u001b[1;33m,\u001b[0m\u001b[1;36m6\u001b[0m\u001b[1;33m,\u001b[0m\u001b[1;36m7\u001b[0m\u001b[1;33m]\u001b[0m\u001b[1;33m,\u001b[0m \u001b[1;34m'C'\u001b[0m\u001b[1;33m:\u001b[0m\u001b[1;33m[\u001b[0m\u001b[1;34m'red'\u001b[0m\u001b[1;33m,\u001b[0m \u001b[1;34m'blue'\u001b[0m\u001b[1;33m,\u001b[0m \u001b[1;34m'green'\u001b[0m\u001b[1;33m]\u001b[0m\u001b[1;33m}\u001b[0m\u001b[1;33m)\u001b[0m\u001b[1;33m\u001b[0m\u001b[1;33m\u001b[0m\u001b[0m\n\u001b[0m",
      "\u001b[1;32m~\\Anaconda3\\lib\\site-packages\\pandas\\core\\frame.py\u001b[0m in \u001b[0;36m__init__\u001b[1;34m(self, data, index, columns, dtype, copy)\u001b[0m\n\u001b[0;32m    390\u001b[0m                                  dtype=dtype, copy=copy)\n\u001b[0;32m    391\u001b[0m         \u001b[1;32melif\u001b[0m \u001b[0misinstance\u001b[0m\u001b[1;33m(\u001b[0m\u001b[0mdata\u001b[0m\u001b[1;33m,\u001b[0m \u001b[0mdict\u001b[0m\u001b[1;33m)\u001b[0m\u001b[1;33m:\u001b[0m\u001b[1;33m\u001b[0m\u001b[1;33m\u001b[0m\u001b[0m\n\u001b[1;32m--> 392\u001b[1;33m             \u001b[0mmgr\u001b[0m \u001b[1;33m=\u001b[0m \u001b[0minit_dict\u001b[0m\u001b[1;33m(\u001b[0m\u001b[0mdata\u001b[0m\u001b[1;33m,\u001b[0m \u001b[0mindex\u001b[0m\u001b[1;33m,\u001b[0m \u001b[0mcolumns\u001b[0m\u001b[1;33m,\u001b[0m \u001b[0mdtype\u001b[0m\u001b[1;33m=\u001b[0m\u001b[0mdtype\u001b[0m\u001b[1;33m)\u001b[0m\u001b[1;33m\u001b[0m\u001b[1;33m\u001b[0m\u001b[0m\n\u001b[0m\u001b[0;32m    393\u001b[0m         \u001b[1;32melif\u001b[0m \u001b[0misinstance\u001b[0m\u001b[1;33m(\u001b[0m\u001b[0mdata\u001b[0m\u001b[1;33m,\u001b[0m \u001b[0mma\u001b[0m\u001b[1;33m.\u001b[0m\u001b[0mMaskedArray\u001b[0m\u001b[1;33m)\u001b[0m\u001b[1;33m:\u001b[0m\u001b[1;33m\u001b[0m\u001b[1;33m\u001b[0m\u001b[0m\n\u001b[0;32m    394\u001b[0m             \u001b[1;32mimport\u001b[0m \u001b[0mnumpy\u001b[0m\u001b[1;33m.\u001b[0m\u001b[0mma\u001b[0m\u001b[1;33m.\u001b[0m\u001b[0mmrecords\u001b[0m \u001b[1;32mas\u001b[0m \u001b[0mmrecords\u001b[0m\u001b[1;33m\u001b[0m\u001b[1;33m\u001b[0m\u001b[0m\n",
      "\u001b[1;32m~\\Anaconda3\\lib\\site-packages\\pandas\\core\\internals\\construction.py\u001b[0m in \u001b[0;36minit_dict\u001b[1;34m(data, index, columns, dtype)\u001b[0m\n\u001b[0;32m    210\u001b[0m         \u001b[0marrays\u001b[0m \u001b[1;33m=\u001b[0m \u001b[1;33m[\u001b[0m\u001b[0mdata\u001b[0m\u001b[1;33m[\u001b[0m\u001b[0mk\u001b[0m\u001b[1;33m]\u001b[0m \u001b[1;32mfor\u001b[0m \u001b[0mk\u001b[0m \u001b[1;32min\u001b[0m \u001b[0mkeys\u001b[0m\u001b[1;33m]\u001b[0m\u001b[1;33m\u001b[0m\u001b[1;33m\u001b[0m\u001b[0m\n\u001b[0;32m    211\u001b[0m \u001b[1;33m\u001b[0m\u001b[0m\n\u001b[1;32m--> 212\u001b[1;33m     \u001b[1;32mreturn\u001b[0m \u001b[0marrays_to_mgr\u001b[0m\u001b[1;33m(\u001b[0m\u001b[0marrays\u001b[0m\u001b[1;33m,\u001b[0m \u001b[0mdata_names\u001b[0m\u001b[1;33m,\u001b[0m \u001b[0mindex\u001b[0m\u001b[1;33m,\u001b[0m \u001b[0mcolumns\u001b[0m\u001b[1;33m,\u001b[0m \u001b[0mdtype\u001b[0m\u001b[1;33m=\u001b[0m\u001b[0mdtype\u001b[0m\u001b[1;33m)\u001b[0m\u001b[1;33m\u001b[0m\u001b[1;33m\u001b[0m\u001b[0m\n\u001b[0m\u001b[0;32m    213\u001b[0m \u001b[1;33m\u001b[0m\u001b[0m\n\u001b[0;32m    214\u001b[0m \u001b[1;33m\u001b[0m\u001b[0m\n",
      "\u001b[1;32m~\\Anaconda3\\lib\\site-packages\\pandas\\core\\internals\\construction.py\u001b[0m in \u001b[0;36marrays_to_mgr\u001b[1;34m(arrays, arr_names, index, columns, dtype)\u001b[0m\n\u001b[0;32m     49\u001b[0m     \u001b[1;31m# figure out the index, if necessary\u001b[0m\u001b[1;33m\u001b[0m\u001b[1;33m\u001b[0m\u001b[1;33m\u001b[0m\u001b[0m\n\u001b[0;32m     50\u001b[0m     \u001b[1;32mif\u001b[0m \u001b[0mindex\u001b[0m \u001b[1;32mis\u001b[0m \u001b[1;32mNone\u001b[0m\u001b[1;33m:\u001b[0m\u001b[1;33m\u001b[0m\u001b[1;33m\u001b[0m\u001b[0m\n\u001b[1;32m---> 51\u001b[1;33m         \u001b[0mindex\u001b[0m \u001b[1;33m=\u001b[0m \u001b[0mextract_index\u001b[0m\u001b[1;33m(\u001b[0m\u001b[0marrays\u001b[0m\u001b[1;33m)\u001b[0m\u001b[1;33m\u001b[0m\u001b[1;33m\u001b[0m\u001b[0m\n\u001b[0m\u001b[0;32m     52\u001b[0m     \u001b[1;32melse\u001b[0m\u001b[1;33m:\u001b[0m\u001b[1;33m\u001b[0m\u001b[1;33m\u001b[0m\u001b[0m\n\u001b[0;32m     53\u001b[0m         \u001b[0mindex\u001b[0m \u001b[1;33m=\u001b[0m \u001b[0mensure_index\u001b[0m\u001b[1;33m(\u001b[0m\u001b[0mindex\u001b[0m\u001b[1;33m)\u001b[0m\u001b[1;33m\u001b[0m\u001b[1;33m\u001b[0m\u001b[0m\n",
      "\u001b[1;32m~\\Anaconda3\\lib\\site-packages\\pandas\\core\\internals\\construction.py\u001b[0m in \u001b[0;36mextract_index\u001b[1;34m(data)\u001b[0m\n\u001b[0;32m    315\u001b[0m             \u001b[0mlengths\u001b[0m \u001b[1;33m=\u001b[0m \u001b[0mlist\u001b[0m\u001b[1;33m(\u001b[0m\u001b[0mset\u001b[0m\u001b[1;33m(\u001b[0m\u001b[0mraw_lengths\u001b[0m\u001b[1;33m)\u001b[0m\u001b[1;33m)\u001b[0m\u001b[1;33m\u001b[0m\u001b[1;33m\u001b[0m\u001b[0m\n\u001b[0;32m    316\u001b[0m             \u001b[1;32mif\u001b[0m \u001b[0mlen\u001b[0m\u001b[1;33m(\u001b[0m\u001b[0mlengths\u001b[0m\u001b[1;33m)\u001b[0m \u001b[1;33m>\u001b[0m \u001b[1;36m1\u001b[0m\u001b[1;33m:\u001b[0m\u001b[1;33m\u001b[0m\u001b[1;33m\u001b[0m\u001b[0m\n\u001b[1;32m--> 317\u001b[1;33m                 \u001b[1;32mraise\u001b[0m \u001b[0mValueError\u001b[0m\u001b[1;33m(\u001b[0m\u001b[1;34m'arrays must all be same length'\u001b[0m\u001b[1;33m)\u001b[0m\u001b[1;33m\u001b[0m\u001b[1;33m\u001b[0m\u001b[0m\n\u001b[0m\u001b[0;32m    318\u001b[0m \u001b[1;33m\u001b[0m\u001b[0m\n\u001b[0;32m    319\u001b[0m             \u001b[1;32mif\u001b[0m \u001b[0mhave_dicts\u001b[0m\u001b[1;33m:\u001b[0m\u001b[1;33m\u001b[0m\u001b[1;33m\u001b[0m\u001b[0m\n",
      "\u001b[1;31mValueError\u001b[0m: arrays must all be same length"
     ]
    }
   ],
   "source": [
    "pd.DataFrame({'A':[1,2,3,4,5], 'B':[3,4,5,6,7], 'C':['red', 'blue', 'green']})"
   ]
  },
  {
   "cell_type": "code",
   "execution_count": null,
   "metadata": {},
   "outputs": [],
   "source": []
  }
 ],
 "metadata": {
  "kernelspec": {
   "display_name": "Python 3",
   "language": "python",
   "name": "python3"
  },
  "language_info": {
   "codemirror_mode": {
    "name": "ipython",
    "version": 3
   },
   "file_extension": ".py",
   "mimetype": "text/x-python",
   "name": "python",
   "nbconvert_exporter": "python",
   "pygments_lexer": "ipython3",
   "version": "3.7.1"
  }
 },
 "nbformat": 4,
 "nbformat_minor": 2
}
