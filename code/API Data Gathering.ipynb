{
 "cells": [
  {
   "cell_type": "markdown",
   "metadata": {},
   "source": [
    "## Gathering Data from RIOT API "
   ]
  },
  {
   "cell_type": "markdown",
   "metadata": {},
   "source": [
    "Importing relevant libraries to pull and organize the data"
   ]
  },
  {
   "cell_type": "code",
   "execution_count": 21,
   "metadata": {},
   "outputs": [],
   "source": [
    "import requests\n",
    "import time\n",
    "import pandas as pd\n",
    "import json\n",
    "import warnings\n",
    "warnings.filterwarnings(\"ignore\")"
   ]
  },
  {
   "cell_type": "markdown",
   "metadata": {},
   "source": [
    "Setting the API key variable here"
   ]
  },
  {
   "cell_type": "code",
   "execution_count": 2,
   "metadata": {},
   "outputs": [],
   "source": [
    "key = 'RGAPI-2c26df9d-9e4b-427f-bbba-2f300e15b217'"
   ]
  },
  {
   "cell_type": "markdown",
   "metadata": {},
   "source": [
    "We set two variables retrieving static data from the API that was not require an API key. This will be our base data that we use from here on to clean and convert values."
   ]
  },
  {
   "cell_type": "code",
   "execution_count": 26,
   "metadata": {},
   "outputs": [],
   "source": [
    "champion_data = requests.get('http://ddragon.leagueoflegends.com/cdn/10.16.1/data/en_US/champion.json').json()\n",
    "rank = requests.get(f'https://na1.api.riotgames.com/lol/league/v4/masterleagues/by-queue/RANKED_SOLO_5x5?api_key={key}').json()\n",
    "spells = requests.get('http://ddragon.leagueoflegends.com/cdn/10.16.1/data/en_US/summoner.json').json()\n",
    "items = requests.get('http://ddragon.leagueoflegends.com/cdn/10.16.1/data/en_US/item.json').json()"
   ]
  },
  {
   "cell_type": "markdown",
   "metadata": {},
   "source": [
    "From the summoner rank json, we want to extract the Summoner ID for every player retrieved and store them into a list"
   ]
  },
  {
   "cell_type": "code",
   "execution_count": 4,
   "metadata": {},
   "outputs": [],
   "source": [
    "master_rank_summoner_id = [i['summonerId'] for i in rank['entries']]"
   ]
  },
  {
   "cell_type": "markdown",
   "metadata": {},
   "source": [
    "We want to change into another api reference and using the summoner ID we retrieved previously, we want to now retrieve the\n",
    "encrypted account ID and store those into another list. From here on, the sleep timer will be 1.3 seconds because Riot (company that owns League of Legends) has a limit of the calls for their API. Since we have a development key, we are only allowed to request a max of 100 calls per 120 seconds. That is 1 call per 1.2 seconds but we wanted to give some room for rest so we set it to 1.3 seconds per call."
   ]
  },
  {
   "cell_type": "code",
   "execution_count": 7,
   "metadata": {},
   "outputs": [],
   "source": [
    "master_rank_account_id = []\n",
    "\n",
    "for i in master_rank_summoner_id:\n",
    "    url = 'https://na1.api.riotgames.com/lol/summoner/v4/summoners/' + str(i) + '?api_key=' + key\n",
    "    master_rank_account_id.append(requests.get(url).json()['accountId'])\n",
    "    time.sleep(1.3)"
   ]
  },
  {
   "cell_type": "code",
   "execution_count": 8,
   "metadata": {},
   "outputs": [],
   "source": [
    "with open(\"../files/master_rank_account_id.txt\", \"w\") as output:\n",
    "    output.write(str(master_rank_account_id))"
   ]
  },
  {
   "cell_type": "markdown",
   "metadata": {},
   "source": [
    "At this step, we want the match ID which is requires another layer of digging through the API reference. With the last piece\n",
    "of the puzzle at hand, we use the account IDs to grab the match IDs from every player and store that information into another\n",
    "list"
   ]
  },
  {
   "cell_type": "code",
   "execution_count": 118,
   "metadata": {},
   "outputs": [],
   "source": [
    "master_rank_match_id = []\n",
    "\n",
    "for i in master_rank_account_id:\n",
    "    url = 'https://na1.api.riotgames.com/lol/match/v4/matchlists/by-account/' + i + '?api_key=' + key\n",
    "    try:\n",
    "        data = requests.get(url).json()\n",
    "        for i in data['matches']:\n",
    "            master_rank_match_id.append(i['gameId'])\n",
    "    except:\n",
    "        pass\n",
    "    time.sleep(1.3)"
   ]
  },
  {
   "cell_type": "markdown",
   "metadata": {},
   "source": [
    "After all the loops, we do not want to repeat that process again, therefore we saved a text file containing all the match ID\n",
    "data so we can just call up the IDs without pulling all over again from the top."
   ]
  },
  {
   "cell_type": "code",
   "execution_count": 121,
   "metadata": {},
   "outputs": [],
   "source": [
    "with open(\"../files/master_rank_match_id.txt\", \"w\") as output:\n",
    "    output.write(str(master_rank_match_id))"
   ]
  },
  {
   "cell_type": "markdown",
   "metadata": {},
   "source": [
    "This function opens the text file we generated but because the text file was saved as a single string, we use the eval()\n",
    "function to convert the information back into a list"
   ]
  },
  {
   "cell_type": "code",
   "execution_count": 4,
   "metadata": {},
   "outputs": [],
   "source": [
    "with open('../files/master_rank_match_id.txt', 'r') as f:\n",
    "    temp = f.read().splitlines()\n",
    "\n",
    "match_id = eval(temp[0])"
   ]
  },
  {
   "cell_type": "markdown",
   "metadata": {},
   "source": [
    "As a precaution, we want to remove any duplicate data before we retrieve any player information. this can be simply applied\n",
    "but setting the list into a set then back into a list to ensure no duplicates remain"
   ]
  },
  {
   "cell_type": "code",
   "execution_count": 5,
   "metadata": {},
   "outputs": [],
   "source": [
    "match_id = list(set(match_id))"
   ]
  },
  {
   "cell_type": "markdown",
   "metadata": {},
   "source": [
    "Finally, we have our match data information and we begin pulling player data per match. PLEASE KEEP IN MIND THIS WILL TAKE A \n",
    "VERY LONG TIME. The file containing all player data is stored in the data folder so no need to pull again."
   ]
  },
  {
   "cell_type": "code",
   "execution_count": 6,
   "metadata": {},
   "outputs": [],
   "source": [
    "match_data = []\n",
    "\n",
    "for i in match_id:\n",
    "    url = f'https://na1.api.riotgames.com/lol/match/v4/matches/{str(i)}?api_key={key}'\n",
    "    match_data.append(requests.get(url).json())\n",
    "    time.sleep(1.25)"
   ]
  },
  {
   "cell_type": "markdown",
   "metadata": {},
   "source": [
    "Since the data retrieve is a huge dictionary, we only want specific data for our analysis. Below we set a placeholder for the dictionary to hold the information we want and append that information to a list created outside the loop. We do this for all players in the file then set it into a dataframe below."
   ]
  },
  {
   "cell_type": "code",
   "execution_count": 7,
   "metadata": {},
   "outputs": [],
   "source": [
    "player_list = []\n",
    "for match in range(len(match_data)):\n",
    "    for items in range(5):\n",
    "        try:\n",
    "            player_dict_item = {}\n",
    "            if match_data[match].get('participants'):\n",
    "                player_dict_item['game_mode'] = match_data[match].get('gameMode')\n",
    "            player_dict_item['champion'] = match_data[match].get('participants')[items].get('championId')\n",
    "            player_dict_item['spell_1'] = match_data[match].get('participants')[items].get('spell1Id')\n",
    "            player_dict_item['spell_2'] = match_data[match].get('participants')[items].get('spell2Id')\n",
    "            player_dict_item['item_0'] = match_data[match].get('participants')[items]['stats'].get('item0')\n",
    "            player_dict_item['item_1'] = match_data[match].get('participants')[items]['stats'].get('item1')\n",
    "            player_dict_item['item_2'] = match_data[match].get('participants')[items]['stats'].get('item2')\n",
    "            player_dict_item['item_3'] = match_data[match].get('participants')[items]['stats'].get('item3')\n",
    "            player_dict_item['item_4'] = match_data[match].get('participants')[items]['stats'].get('item4')\n",
    "            player_dict_item['item_5'] = match_data[match].get('participants')[items]['stats'].get('item5')\n",
    "            player_dict_item['item_6'] = match_data[match].get('participants')[items]['stats'].get('item6')\n",
    "            player_dict_item['victory'] = match_data[match].get('participants')[items]['stats'].get('win')\n",
    "            player_dict_item['kills'] = match_data[match].get('participants')[items]['stats'].get('kills')\n",
    "            player_dict_item['deaths'] = match_data[match].get('participants')[items]['stats'].get('deaths')\n",
    "            player_dict_item['assists'] = match_data[match].get('participants')[items]['stats'].get('assists')\n",
    "            player_dict_item['largest_killing_spree'] = match_data[match].get('participants')[items]['stats'].get('largestKillingSpree')\n",
    "            player_dict_item['killing_sprees'] = match_data[match].get('participants')[items]['stats'].get('killingSprees')\n",
    "            player_dict_item['largest_time_spent_living'] = match_data[match].get('participants')[items]['stats'].get('longestTimeSpentLiving')\n",
    "            player_dict_item['double_kills'] = match_data[match].get('participants')[items]['stats'].get('doubleKills')\n",
    "            player_dict_item['triple_kills'] = match_data[match].get('participants')[items]['stats'].get('tripleKills')\n",
    "            player_dict_item['quadra_kills'] = match_data[match].get('participants')[items]['stats'].get('quadraKills')\n",
    "            player_dict_item['penta_kills'] = match_data[match].get('participants')[items]['stats'].get('pentaKills')\n",
    "            player_dict_item['total_heal'] = match_data[match].get('participants')[items]['stats'].get('totalHeal')\n",
    "            player_dict_item['total_units_healed'] = match_data[match].get('participants')[items]['stats'].get('totalUnitsHealed')\n",
    "            player_dict_item['damage_self_mitigated'] = match_data[match].get('participants')[items]['stats'].get('damageSelfMitigated')\n",
    "            player_dict_item['total_damage_dealt_to_champions'] = match_data[match].get('participants')[items]['stats'].get('totalDamageDealtToChampions')\n",
    "            player_dict_item['total_damage_dealt'] = match_data[match].get('participants')[items]['stats'].get('totalDamageDealt')\n",
    "            player_dict_item['magical_damage_dealt'] = match_data[match].get('participants')[items]['stats'].get('magicDamageDealt')\n",
    "            player_dict_item['phsical_damage_dealt'] = match_data[match].get('participants')[items]['stats'].get('physicalDamageDealt')\n",
    "            player_dict_item['true_damage_dealt'] = match_data[match].get('participants')[items]['stats'].get('trueDamageDealt') \n",
    "            player_dict_item['vision_score'] = match_data[match].get('participants')[items]['stats'].get('visionScore')\n",
    "            player_dict_item['total_damage_taken'] = match_data[match].get('participants')[items]['stats'].get('totalDamageTaken')\n",
    "            player_dict_item['magical_damage_taken'] = match_data[match].get('participants')[items]['stats'].get('magicalDamageTaken')\n",
    "            player_dict_item['physical_damage_taken'] = match_data[match].get('participants')[items]['stats'].get('physicalDamageTaken')\n",
    "            player_dict_item['true_damage_taken'] = match_data[match].get('participants')[items]['stats'].get('trueDamageTaken')\n",
    "            player_dict_item['gold_earned'] = match_data[match].get('participants')[items]['stats'].get('goldEarned')\n",
    "            player_dict_item['gold_spent'] = match_data[match].get('participants')[items]['stats'].get('goldSpent')   \n",
    "            player_dict_item['turret_kills'] = match_data[match].get('participants')[items]['stats'].get('turretKills')\n",
    "            player_dict_item['inhibitor_kills'] = match_data[match].get('participants')[items]['stats'].get('inhibitorKills')\n",
    "            player_dict_item['total_minions_killed'] = match_data[match].get('participants')[items]['stats'].get('totalMinionsKilled')\n",
    "            player_dict_item['wards_placed'] = match_data[match].get('participants')[items]['stats'].get('wardsPlaced')\n",
    "            player_dict_item['wards_killed'] = match_data[match].get('participants')[items]['stats'].get('wardsKilled')   \n",
    "            player_dict_item['first_blood_kill'] = match_data[match].get('participants')[items]['stats'].get('firstBloodKill')\n",
    "            player_dict_item['first_blood_assist'] = match_data[match].get('participants')[items]['stats'].get('firstBloodAssist')\n",
    "            player_dict_item['first_tower_kill'] = match_data[match].get('participants')[items]['stats'].get('firstTowerKill')\n",
    "            player_dict_item['first_tower_assist'] = match_data[match].get('participants')[items]['stats'].get('firstTowerAssist')\n",
    "            player_dict_item['first_inhibitor_kill'] = match_data[match].get('participants')[items]['stats'].get('firstInhibitorKill')\n",
    "            player_dict_item['first_inhibitor_assist'] = match_data[match].get('participants')[items]['stats'].get('firstInhibitorAssist')  \n",
    "            player_dict_item['lane'] = match_data[match].get('participants')[items]['timeline'].get('lane')\n",
    "            player_dict_item['role'] = match_data[match].get('participants')[items]['timeline'].get('role')\n",
    "            player_list.append(player_dict_item)\n",
    "            \n",
    "        except:\n",
    "            pass\n",
    "        \n",
    "    for items in range(5,10):\n",
    "        try:\n",
    "            player_dict_item = {}\n",
    "            player_dict_item['game_mode'] = match_data[match].get('gameMode')\n",
    "            if match_data[match].get('participants')[items]:\n",
    "                player_dict_item['champion'] = match_data[match].get('participants')[items].get('championId')\n",
    "            player_dict_item['spell_1'] = match_data[match].get('participants')[items].get('spell1Id')\n",
    "            player_dict_item['spell_2'] = match_data[match].get('participants')[items].get('spell2Id')\n",
    "            player_dict_item['item_0'] = match_data[match].get('participants')[items]['stats'].get('item0')\n",
    "            player_dict_item['item_1'] = match_data[match].get('participants')[items]['stats'].get('item1')\n",
    "            player_dict_item['item_2'] = match_data[match].get('participants')[items]['stats'].get('item2')\n",
    "            player_dict_item['item_3'] = match_data[match].get('participants')[items]['stats'].get('item3')\n",
    "            player_dict_item['item_4'] = match_data[match].get('participants')[items]['stats'].get('item4')\n",
    "            player_dict_item['item_5'] = match_data[match].get('participants')[items]['stats'].get('item5')\n",
    "            player_dict_item['item_6'] = match_data[match].get('participants')[items]['stats'].get('item6')\n",
    "            player_dict_item['victory'] = match_data[match].get('participants')[items]['stats'].get('win')\n",
    "            player_dict_item['kills'] = match_data[match].get('participants')[items]['stats'].get('kills')\n",
    "            player_dict_item['deaths'] = match_data[match].get('participants')[items]['stats'].get('deaths')\n",
    "            player_dict_item['assists'] = match_data[match].get('participants')[items]['stats'].get('assists')\n",
    "            player_dict_item['largest_killing_spree'] = match_data[match].get('participants')[items]['stats'].get('largestKillingSpree')\n",
    "            player_dict_item['killing_sprees'] = match_data[match].get('participants')[items]['stats'].get('killingSprees')\n",
    "            player_dict_item['largest_time_spent_living'] = match_data[match].get('participants')[items]['stats'].get('longestTimeSpentLiving')\n",
    "            player_dict_item['double_kills'] = match_data[match].get('participants')[items]['stats'].get('doubleKills')\n",
    "            player_dict_item['triple_kills'] = match_data[match].get('participants')[items]['stats'].get('tripleKills')\n",
    "            player_dict_item['quadra_kills'] = match_data[match].get('participants')[items]['stats'].get('quadraKills')\n",
    "            player_dict_item['penta_kills'] = match_data[match].get('participants')[items]['stats'].get('pentaKills')\n",
    "            player_dict_item['total_heal'] = match_data[match].get('participants')[items]['stats'].get('totalHeal')\n",
    "            player_dict_item['total_units_healed'] = match_data[match].get('participants')[items]['stats'].get('totalUnitsHealed')\n",
    "            player_dict_item['damage_self_mitigated'] = match_data[match].get('participants')[items]['stats'].get('damageSelfMitigated')\n",
    "            player_dict_item['total_damage_dealt'] = match_data[match].get('participants')[items]['stats'].get('totalDamageDealt')\n",
    "            player_dict_item['magical_damage_dealt'] = match_data[match].get('participants')[items]['stats'].get('magicDamageDealt')\n",
    "            player_dict_item['phsical_damage_dealt'] = match_data[match].get('participants')[items]['stats'].get('physicalDamageDealt')\n",
    "            player_dict_item['true_damage_dealt'] = match_data[match].get('participants')[items]['stats'].get('trueDamageDealt')\n",
    "            player_dict_item['total_damage_dealt_to_champions'] = match_data[match].get('participants')[items]['stats'].get('totalDamageDealtToChampions')\n",
    "            player_dict_item['vision_score'] = match_data[match].get('participants')[items]['stats'].get('visionScore')\n",
    "            player_dict_item['total_damage_taken'] = match_data[match].get('participants')[items]['stats'].get('totalDamageTaken')\n",
    "            player_dict_item['magical_damage_taken'] = match_data[match].get('participants')[items]['stats'].get('magicalDamageTaken')\n",
    "            player_dict_item['physical_damage_taken'] = match_data[match].get('participants')[items]['stats'].get('physicalDamageTaken')\n",
    "            player_dict_item['true_damage_taken'] = match_data[match].get('participants')[items]['stats'].get('trueDamageTaken')\n",
    "            player_dict_item['gold_earned'] = match_data[match].get('participants')[items]['stats'].get('goldEarned')\n",
    "            player_dict_item['gold_spent'] = match_data[match].get('participants')[items]['stats'].get('goldSpent')   \n",
    "            player_dict_item['turret_kills'] = match_data[match].get('participants')[items]['stats'].get('turretKills')\n",
    "            player_dict_item['inhibitor_kills'] = match_data[match].get('participants')[items]['stats'].get('inhibitorKills')\n",
    "            player_dict_item['total_minions_killed'] = match_data[match].get('participants')[items]['stats'].get('totalMinionsKilled')\n",
    "            player_dict_item['wards_placed'] = match_data[match].get('participants')[items]['stats'].get('wardsPlaced')\n",
    "            player_dict_item['wards_killed'] = match_data[match].get('participants')[items]['stats'].get('wardsKilled')   \n",
    "            player_dict_item['first_blood_kill'] = match_data[match].get('participants')[items]['stats'].get('firstBloodKill')\n",
    "            player_dict_item['first_blood_assist'] = match_data[match].get('participants')[items]['stats'].get('firstBloodAssist')\n",
    "            player_dict_item['first_tower_kill'] = match_data[match].get('participants')[items]['stats'].get('firstTowerKill')\n",
    "            player_dict_item['first_tower_assist'] = match_data[match].get('participants')[items]['stats'].get('firstTowerAssist')\n",
    "            player_dict_item['first_inhibitor_kill'] = match_data[match].get('participants')[items]['stats'].get('firstInhibitorKill')\n",
    "            player_dict_item['first_inhibitor_assist'] = match_data[match].get('participants')[items]['stats'].get('firstInhibitorAssist')  \n",
    "            player_dict_item['lane'] = match_data[match].get('participants')[items]['timeline'].get('lane')\n",
    "            player_dict_item['role'] = match_data[match].get('participants')[items]['timeline'].get('role')\n",
    "            player_list.append(player_dict_item)\n",
    "        except:\n",
    "            pass\n"
   ]
  },
  {
   "cell_type": "markdown",
   "metadata": {},
   "source": [
    "This step simply stores the giant list we created into a dataframe"
   ]
  },
  {
   "cell_type": "code",
   "execution_count": 8,
   "metadata": {},
   "outputs": [],
   "source": [
    "df = pd.DataFrame(player_list)"
   ]
  },
  {
   "cell_type": "markdown",
   "metadata": {},
   "source": [
    "As a precaution, we stored the dataframe as a `.csv` file in case we have to restart the notebook and do not want to pull the data again. For the data pulling from Riot's API, it was split into 3 parts since the API key expires in 24 hours. Each part below was data pulled from 8000 match ID at a time."
   ]
  },
  {
   "cell_type": "code",
   "execution_count": 15,
   "metadata": {},
   "outputs": [],
   "source": [
    "# df.to_csv('../data/part1.csv')"
   ]
  },
  {
   "cell_type": "code",
   "execution_count": 33,
   "metadata": {},
   "outputs": [],
   "source": [
    "# df.to_csv('../data/part2.csv')"
   ]
  },
  {
   "cell_type": "code",
   "execution_count": 10,
   "metadata": {},
   "outputs": [],
   "source": [
    "# df.to_csv('../data/part3.csv')"
   ]
  },
  {
   "cell_type": "markdown",
   "metadata": {},
   "source": [
    "Here we want to import the 3 parts previously stored files from the `data` folder."
   ]
  },
  {
   "cell_type": "code",
   "execution_count": 17,
   "metadata": {},
   "outputs": [],
   "source": [
    "part_1 = pd.read_csv('../data/part1.csv', index_col = 0)\n",
    "part_2 = pd.read_csv('../data/part2.csv', index_col = 0)\n",
    "part_3 = pd.read_csv('../data/part3.csv', index_col = 0)"
   ]
  },
  {
   "cell_type": "code",
   "execution_count": 18,
   "metadata": {},
   "outputs": [
    {
     "data": {
      "text/html": [
       "<div>\n",
       "<style scoped>\n",
       "    .dataframe tbody tr th:only-of-type {\n",
       "        vertical-align: middle;\n",
       "    }\n",
       "\n",
       "    .dataframe tbody tr th {\n",
       "        vertical-align: top;\n",
       "    }\n",
       "\n",
       "    .dataframe thead th {\n",
       "        text-align: right;\n",
       "    }\n",
       "</style>\n",
       "<table border=\"1\" class=\"dataframe\">\n",
       "  <thead>\n",
       "    <tr style=\"text-align: right;\">\n",
       "      <th></th>\n",
       "      <th>assists</th>\n",
       "      <th>champion</th>\n",
       "      <th>damage_self_mitigated</th>\n",
       "      <th>deaths</th>\n",
       "      <th>double_kills</th>\n",
       "      <th>first_blood_assist</th>\n",
       "      <th>first_blood_kill</th>\n",
       "      <th>first_inhibitor_assist</th>\n",
       "      <th>first_inhibitor_kill</th>\n",
       "      <th>first_tower_assist</th>\n",
       "      <th>...</th>\n",
       "      <th>total_minions_killed</th>\n",
       "      <th>total_units_healed</th>\n",
       "      <th>triple_kills</th>\n",
       "      <th>true_damage_dealt</th>\n",
       "      <th>true_damage_taken</th>\n",
       "      <th>turret_kills</th>\n",
       "      <th>victory</th>\n",
       "      <th>vision_score</th>\n",
       "      <th>wards_killed</th>\n",
       "      <th>wards_placed</th>\n",
       "    </tr>\n",
       "  </thead>\n",
       "  <tbody>\n",
       "    <tr>\n",
       "      <th>0</th>\n",
       "      <td>4</td>\n",
       "      <td>245</td>\n",
       "      <td>10362</td>\n",
       "      <td>2</td>\n",
       "      <td>1</td>\n",
       "      <td>False</td>\n",
       "      <td>False</td>\n",
       "      <td>NaN</td>\n",
       "      <td>NaN</td>\n",
       "      <td>False</td>\n",
       "      <td>...</td>\n",
       "      <td>31</td>\n",
       "      <td>1</td>\n",
       "      <td>0</td>\n",
       "      <td>3608</td>\n",
       "      <td>838</td>\n",
       "      <td>0</td>\n",
       "      <td>True</td>\n",
       "      <td>13</td>\n",
       "      <td>2.0</td>\n",
       "      <td>4.0</td>\n",
       "    </tr>\n",
       "    <tr>\n",
       "      <th>1</th>\n",
       "      <td>6</td>\n",
       "      <td>81</td>\n",
       "      <td>2895</td>\n",
       "      <td>3</td>\n",
       "      <td>0</td>\n",
       "      <td>False</td>\n",
       "      <td>True</td>\n",
       "      <td>NaN</td>\n",
       "      <td>NaN</td>\n",
       "      <td>False</td>\n",
       "      <td>...</td>\n",
       "      <td>134</td>\n",
       "      <td>1</td>\n",
       "      <td>0</td>\n",
       "      <td>452</td>\n",
       "      <td>66</td>\n",
       "      <td>3</td>\n",
       "      <td>True</td>\n",
       "      <td>12</td>\n",
       "      <td>2.0</td>\n",
       "      <td>7.0</td>\n",
       "    </tr>\n",
       "    <tr>\n",
       "      <th>2</th>\n",
       "      <td>9</td>\n",
       "      <td>43</td>\n",
       "      <td>4223</td>\n",
       "      <td>1</td>\n",
       "      <td>0</td>\n",
       "      <td>False</td>\n",
       "      <td>False</td>\n",
       "      <td>NaN</td>\n",
       "      <td>NaN</td>\n",
       "      <td>False</td>\n",
       "      <td>...</td>\n",
       "      <td>34</td>\n",
       "      <td>5</td>\n",
       "      <td>0</td>\n",
       "      <td>3480</td>\n",
       "      <td>48</td>\n",
       "      <td>0</td>\n",
       "      <td>True</td>\n",
       "      <td>42</td>\n",
       "      <td>4.0</td>\n",
       "      <td>17.0</td>\n",
       "    </tr>\n",
       "    <tr>\n",
       "      <th>3</th>\n",
       "      <td>3</td>\n",
       "      <td>164</td>\n",
       "      <td>12677</td>\n",
       "      <td>1</td>\n",
       "      <td>0</td>\n",
       "      <td>False</td>\n",
       "      <td>False</td>\n",
       "      <td>NaN</td>\n",
       "      <td>NaN</td>\n",
       "      <td>False</td>\n",
       "      <td>...</td>\n",
       "      <td>121</td>\n",
       "      <td>1</td>\n",
       "      <td>0</td>\n",
       "      <td>8489</td>\n",
       "      <td>8</td>\n",
       "      <td>1</td>\n",
       "      <td>True</td>\n",
       "      <td>12</td>\n",
       "      <td>0.0</td>\n",
       "      <td>7.0</td>\n",
       "    </tr>\n",
       "    <tr>\n",
       "      <th>4</th>\n",
       "      <td>4</td>\n",
       "      <td>134</td>\n",
       "      <td>3827</td>\n",
       "      <td>2</td>\n",
       "      <td>1</td>\n",
       "      <td>False</td>\n",
       "      <td>False</td>\n",
       "      <td>NaN</td>\n",
       "      <td>NaN</td>\n",
       "      <td>False</td>\n",
       "      <td>...</td>\n",
       "      <td>124</td>\n",
       "      <td>1</td>\n",
       "      <td>0</td>\n",
       "      <td>3875</td>\n",
       "      <td>95</td>\n",
       "      <td>0</td>\n",
       "      <td>True</td>\n",
       "      <td>23</td>\n",
       "      <td>4.0</td>\n",
       "      <td>9.0</td>\n",
       "    </tr>\n",
       "  </tbody>\n",
       "</table>\n",
       "<p>5 rows × 50 columns</p>\n",
       "</div>"
      ],
      "text/plain": [
       "   assists  champion  damage_self_mitigated  deaths  double_kills  \\\n",
       "0        4       245                  10362       2             1   \n",
       "1        6        81                   2895       3             0   \n",
       "2        9        43                   4223       1             0   \n",
       "3        3       164                  12677       1             0   \n",
       "4        4       134                   3827       2             1   \n",
       "\n",
       "  first_blood_assist first_blood_kill first_inhibitor_assist  \\\n",
       "0              False            False                    NaN   \n",
       "1              False             True                    NaN   \n",
       "2              False            False                    NaN   \n",
       "3              False            False                    NaN   \n",
       "4              False            False                    NaN   \n",
       "\n",
       "  first_inhibitor_kill first_tower_assist  ... total_minions_killed  \\\n",
       "0                  NaN              False  ...                   31   \n",
       "1                  NaN              False  ...                  134   \n",
       "2                  NaN              False  ...                   34   \n",
       "3                  NaN              False  ...                  121   \n",
       "4                  NaN              False  ...                  124   \n",
       "\n",
       "  total_units_healed  triple_kills  true_damage_dealt  true_damage_taken  \\\n",
       "0                  1             0               3608                838   \n",
       "1                  1             0                452                 66   \n",
       "2                  5             0               3480                 48   \n",
       "3                  1             0               8489                  8   \n",
       "4                  1             0               3875                 95   \n",
       "\n",
       "   turret_kills  victory  vision_score  wards_killed  wards_placed  \n",
       "0             0     True            13           2.0           4.0  \n",
       "1             3     True            12           2.0           7.0  \n",
       "2             0     True            42           4.0          17.0  \n",
       "3             1     True            12           0.0           7.0  \n",
       "4             0     True            23           4.0           9.0  \n",
       "\n",
       "[5 rows x 50 columns]"
      ]
     },
     "execution_count": 18,
     "metadata": {},
     "output_type": "execute_result"
    }
   ],
   "source": [
    "part_3.head()"
   ]
  },
  {
   "cell_type": "code",
   "execution_count": 33,
   "metadata": {},
   "outputs": [],
   "source": [
    "final = pd.concat([part_1, part_2, part_3])"
   ]
  },
  {
   "cell_type": "markdown",
   "metadata": {},
   "source": [
    "As above, we want to save another `csv` file just in case we get interrupted creating the data."
   ]
  },
  {
   "cell_type": "code",
   "execution_count": 23,
   "metadata": {},
   "outputs": [],
   "source": [
    "# final.to_csv('../data/final.csv')"
   ]
  },
  {
   "cell_type": "markdown",
   "metadata": {},
   "source": [
    "At this step, we want to incorporate some formatting before we bring the data into main notebook. The champions column are numerical IDs instead of their actual name. From the data we pull above, we have all the champion information including their name and associated ID. We first create a list of dictionary where the ID is the key and value is the name. Then we store that information into a list for every champion. Next we do the same for summoner spells. The file was a `json` file downloaded from Riot's [Data Dragon](https://developer.riotgames.com/ddragon.html) page. Similar to what we did with the character list, we created a list of dictionarys with the key being the ID and value being the spell name."
   ]
  },
  {
   "cell_type": "code",
   "execution_count": 27,
   "metadata": {},
   "outputs": [],
   "source": [
    "champion_dict = {champion_data['data'][list(champion_data['data'].keys())[i]]['key']: list(champion_data['data'].keys())[i]  \n",
    "                 for i \n",
    "                 in range(len(list(champion_data['data'].keys())))}\n",
    "\n",
    "\n",
    "spell_dict = {spells['data'][list(spells['data'].keys())[i]]['key']: spells['data'][list(spells['data'].keys())[i]]['name'] \n",
    "             for i\n",
    "             in range(len(list(spells['data'].keys())))}\n",
    "\n",
    "items_dict = {list(items['data'])[i]: items['data'][list(items['data'])[i]]['name'] \n",
    "              for i \n",
    "              in range(len(list(items['data'])))}"
   ]
  },
  {
   "cell_type": "markdown",
   "metadata": {},
   "source": [
    "We converted the following columns into string in preparation of replacing all values with the appropriate names."
   ]
  },
  {
   "cell_type": "code",
   "execution_count": 40,
   "metadata": {},
   "outputs": [],
   "source": [
    "columns = ['champion', 'spell_1', 'spell_2', 'item_0', 'item_1', 'item_2', 'item_3', 'item_4', 'item_5', 'item_6']\n",
    "\n",
    "for col in columns:\n",
    "    final[col] = final[col].astype(str)"
   ]
  },
  {
   "cell_type": "markdown",
   "metadata": {},
   "source": [
    "Here we map the IDs to their names and replace every value in the data with the appropriate name."
   ]
  },
  {
   "cell_type": "code",
   "execution_count": 42,
   "metadata": {},
   "outputs": [],
   "source": [
    "final['champion'] = final['champion'].map(champion_dict)\n",
    "final['spell_1'] = final['spell_1'].map(spell_dict)\n",
    "final['spell_2'] = final['spell_2'].map(spell_dict)\n",
    "\n",
    "for col in columns[3:]:\n",
    "    final[col] = final[col].map(items_dict)"
   ]
  },
  {
   "cell_type": "markdown",
   "metadata": {},
   "source": [
    "We finally save the file ready for analysis in our main notebook."
   ]
  },
  {
   "cell_type": "code",
   "execution_count": 43,
   "metadata": {},
   "outputs": [],
   "source": [
    "final.to_csv('../data/final_with_data.csv')"
   ]
  },
  {
   "cell_type": "markdown",
   "metadata": {},
   "source": [
    "Here continue [here](League%20of%20Legends.ipynb) for full analysis of the data."
   ]
  }
 ],
 "metadata": {
  "kernelspec": {
   "display_name": "Python 3",
   "language": "python",
   "name": "python3"
  },
  "language_info": {
   "codemirror_mode": {
    "name": "ipython",
    "version": 3
   },
   "file_extension": ".py",
   "mimetype": "text/x-python",
   "name": "python",
   "nbconvert_exporter": "python",
   "pygments_lexer": "ipython3",
   "version": "3.7.1"
  }
 },
 "nbformat": 4,
 "nbformat_minor": 2
}
